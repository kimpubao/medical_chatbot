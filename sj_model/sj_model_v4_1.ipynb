{
 "cells": [
  {
   "cell_type": "markdown",
   "id": "25f3d299",
   "metadata": {},
   "source": [
    "# 모델\n",
    "- skt/A.X-4.0\n",
    "\n",
    "# 단계별 전체 흐름\n",
    "---\n",
    "1. 각 파일별로 텍스트 chunk → 벡터DB(FAISS 등) 저장\n",
    "---\n",
    "2. 질문 입력\n",
    "    - → ex) \"두피에 하얗게 벗겨지고 가려워요. 무슨 질환일까요?\"\n",
    "---\n",
    "3. 벡터DB에서 chunk 검색(Top-k 유사도 검색)\n",
    "    - → 질문 임베딩 → 벡터DB에서 가장 유사한 chunk 반환\n",
    "---\n",
    "4. 검색 결과와 사용자 질문을 EXAONE 모델로 전달\n",
    "    - → Prompt에 ‘검색 결과 + 원 질문’ 조합하여 입력\n",
    "---\n",
    "5. EXAONE이 최종 답변 생성\n",
    "---"
   ]
  },
  {
   "cell_type": "markdown",
   "id": "cfcbcd99",
   "metadata": {},
   "source": [
    "# 1. 임포트 & 데이터 폴더 지정"
   ]
  },
  {
   "cell_type": "code",
   "execution_count": 1,
   "id": "aec5dbc2",
   "metadata": {},
   "outputs": [
    {
     "name": "stdout",
     "output_type": "stream",
     "text": [
      "True\n",
      "1\n"
     ]
    }
   ],
   "source": [
    "# 데이터 처리 및 파일 입출력\n",
    "import os\n",
    "import pandas as pd\n",
    "import glob\n",
    "\n",
    "# RAG, 임베딩, 벡터DB 관련 예시 임포트 (필요에 따라 사용)\n",
    "from langchain.embeddings import HuggingFaceEmbeddings\n",
    "from langchain.vectorstores import FAISS\n",
    "from transformers import AutoTokenizer, AutoModelForCausalLM\n",
    "\n",
    "# 텍스트 전처리, 토큰화 등 (필요에 따라)\n",
    "from sklearn.model_selection import train_test_split\n",
    "import numpy as np\n",
    "import torch\n",
    "import re\n",
    "\n",
    "# openai 호출\n",
    "from openai import OpenAI\n",
    "\n",
    "# 마크다운 글씨 굵게 하기\n",
    "from IPython.display import display, Markdown\n",
    "\n",
    "print(torch.cuda.is_available())\n",
    "print(torch.cuda.device_count())\n",
    "\n",
    "# 파일 경로 자동 지정\n",
    "data = \"../dataset\""
   ]
  },
  {
   "cell_type": "markdown",
   "id": "7cb04409",
   "metadata": {},
   "source": [
    "# 2. dataset 폴더 내 모든 CSV 파일 읽어오기"
   ]
  },
  {
   "cell_type": "code",
   "execution_count": 2,
   "id": "94947bff",
   "metadata": {},
   "outputs": [
    {
     "name": "stdout",
     "output_type": "stream",
     "text": [
      "1200_v1.csv: (1200, 2) \n",
      "   label                                               text\n",
      "0    건선  지난 몇 주 동안 팔, 다리, 몸통에 피부 발진이 생겼어요. 빨갛고 가려운데, 마른...\n",
      "1    건선  제 피부가 벗겨지고 있어요, 특히 무릎, 팔꿈치, 그리고 두피 쪽이요. 이 벗겨짐이... \n",
      "\n",
      "amc.csv: (1278, 7) \n",
      "                                 병명  \\\n",
      "0   18번 염색체 단완결실 증후군(18p monosomy)   \n",
      "1  18번 염색체 장완결실 증후군 (18q monosomy)   \n",
      "\n",
      "                                                  정의  \\\n",
      "0  18번 염색체 단완결실 증후군은 흔하지 않지만 특징적인 표현형을 가지고 있는 질환을...   \n",
      "1  18번 염색체 장완결실 증후군은 흔한 염색체 이상 질환은 아니지만, 특징적인 표현형...   \n",
      "\n",
      "                                                  원인  \\\n",
      "0  대부분 염색체 검사를 통해 18번 염색체 단완결실이 확인됩니다. 이 경우 환자의 8...   \n",
      "1  18번 염색체 장완결실 증후군은 대부분 자연발생적으로 발생합니다. 나머지는 18번 ...   \n",
      "\n",
      "                                                  증상  \\\n",
      "0  18번 염색체 단완결실 증후군에는 소두증, 안검 하수, 사시, 양안 격리증, 크고 ...   \n",
      "1  18번 염색체 장완결실 증후군은 소두증, 안면 중앙부 저형성, 깊게 패인 눈, 짧은...   \n",
      "\n",
      "                                                  진단  \\\n",
      "0  18번 염색체 단완결실 증후군은 일반적으로 세포 유전학적 검사(말초혈액 염색체 검사...   \n",
      "1  18번 염색체 장완결실 증후군의 진단은 일반적으로 세포 유전학적 검사(말초 혈액 염...   \n",
      "\n",
      "                                                  치료     진료과  \n",
      "0  18번 염색체 단완결실 증후군은 각 신체 증상에 대한 보존적 치료, 학습 치료, 재...  의학유전학과  \n",
      "1  18번 염색체 장완결실 증후군 치료는 신체 각 부위의 증상에 대한 치료, 재활 치료...  의학유전학과   \n",
      "\n",
      "daily_dataset.csv: (3418, 2) \n",
      "       증상                                              일상말\n",
      "0     건선         살이 자꾸 막벗겨지고 간지러워 긁었더니 빨개지고 따끔거리는데괜찮은거겠지?\n",
      "1  하지정맥류  따리가 푸르딩딩 울퉁불퉁해지고 저릿저릿 아픈데 오래 서있기도 힘들아ㅠ 이거 왜 이래? \n",
      "\n",
      "final_v7.csv: (1732, 2) \n",
      "       label                                               text\n",
      "0      알레르기  저는 천식을 앓고 있어서 쌕쌕거리는 소리와 호흡 곤란이 있습니다. 또한 열이 나고 ...\n",
      "1  조기 난소 부전  원발성 난소 부전의 징후와 증상은 폐경이나 에스트로겐 결핍과 유사합니다. 이러한 증... \n",
      "\n",
      "kdca.csv: (208, 6) \n",
      "     병명                                                 정의  \\\n",
      "0  간농양  간농양이란 세균이나 기생충이 간에서 증식하여 농양(고름 덩어리)을 형성하여 질병을 ...   \n",
      "1   간염  바이러스 간염이란 바이러스 감염으로 인해 간 조직에 염증이 생기고, 다양한 증상이 ...   \n",
      "\n",
      "                                                  원인  \\\n",
      "0  간농양은 발생 원인에 따라 크게 화농성 간농양과 기생충성(아메바성) 간농양으로 구분...   \n",
      "1  바이러스 간염의 원인  바이러스 간염의 주요 발생 원인은 A형, B형, C형, D형...   \n",
      "\n",
      "                                                  증상  \\\n",
      "0  화농성 간농양이 생기면 세균 또는 기생충에 의한 간내 고름 형성과 이로 인한 염증으...   \n",
      "1  바이러스 간염의 주요 증상은 피로감, 졸음 및 식욕 부진같은 비특이적인 전신 증상과...   \n",
      "\n",
      "                                                  진단  \\\n",
      "0  간농양 의심 증상으로 병원에 오게 되면 의사는 자세한 문진과 신체검사를 시행하여 증...   \n",
      "1  만성 B형간염은 B형간염 바이러스 표면 항원이 6개월 이상 양성인 경우를 말합니다....   \n",
      "\n",
      "                                                  치료  \n",
      "0  화농성 간농양의 성공적인 치료를 위해 일반적으로 항생제 치료와 배액 모두가 필요합니...  \n",
      "1  만성 B형간염은 항바이러스 치료를 통해 완치를 기대할 수 없으며 오랜 기간의 치료가...   \n",
      "\n",
      "snu.csv: (1240, 7) \n",
      "                       병명                                                 정의  \\\n",
      "0  가랑이통증 [Perineal pain]  넓게는 외음부-여성의 바깥 생식기관-불두덩(치골구), 대음순, 소음순, 음핵, 처녀...   \n",
      "1    가성근시 [pseudomyopia]  근시란 먼 곳을 볼 때 눈으로 들어간 빛의 초점이 망막보다 앞에 맺히는 것이다. 가...   \n",
      "\n",
      "                                                  원인  \\\n",
      "0  요로감염이나 항문 농양 등의 감염, 해당 부위의 양성 또는 악성 종양, 관련 부위의...   \n",
      "1  근거리 물체를 볼 때 수정체를 감싼 모양체 근육이 수축돼 수정체가 두꺼워지고 먼 거...   \n",
      "\n",
      "                                                  증상  \\\n",
      "0  원인에 따라 증상에 다소 차이가 있을 수 있다. *요로감염: 배뇨통 및 빈뇨, 절박...   \n",
      "1  원거리 시력저하가 나타나고 과도한 모양체 근육의 수축으로 인해서 눈이 피로하고 안구...   \n",
      "\n",
      "                                               진단/검사  \\\n",
      "0                                                NaN   \n",
      "1  가성근시는 일반적인 시력검사로는 알기 어렵다. 안과에서의 굴절 검사(현성 굴절 검사...   \n",
      "\n",
      "                                                  치료          진료과  \n",
      "0  원인에 따른 치료가 기본으로 감염일 경우 항생제, 농양일 경우 절개와 배농 등으로 ...         산부인과  \n",
      "1  먼저 약물 치료 전 가성근시를 유발시킬 수 있는 생활조건에 대해 확인한다. 대부분 ...  안과, 정신건강의학과   \n",
      "\n"
     ]
    }
   ],
   "source": [
    "df_1200 = pd.read_csv(os.path.join(data, \"1200_v1.csv\"))\n",
    "df_amc = pd.read_csv(os.path.join(data, \"amc.csv\"))\n",
    "df_daily = pd.read_csv(os.path.join(data, \"daily_dataset.csv\"))\n",
    "df_final = pd.read_csv(os.path.join(data, \"final_v7.csv\"))\n",
    "df_kdca = pd.read_csv(os.path.join(data, \"kdca.csv\"))\n",
    "df_snu = pd.read_csv(os.path.join(data, \"snu.csv\"))\n",
    "\n",
    "# 데이터 미리보기 (각 파일별)\n",
    "print(\"1200_v1.csv:\", df_1200.shape, \"\\n\", df_1200.head(2), \"\\n\")\n",
    "print(\"amc.csv:\", df_amc.shape, \"\\n\", df_amc.head(2), \"\\n\")\n",
    "print(\"daily_dataset.csv:\", df_daily.shape, \"\\n\", df_daily.head(2), \"\\n\")\n",
    "print(\"final_v7.csv:\", df_final.shape, \"\\n\", df_final.head(2), \"\\n\")\n",
    "print(\"kdca.csv:\", df_kdca.shape, \"\\n\", df_kdca.head(2), \"\\n\")\n",
    "print(\"snu.csv:\", df_snu.shape, \"\\n\", df_snu.head(2), \"\\n\")"
   ]
  },
  {
   "cell_type": "markdown",
   "id": "c012e9b0",
   "metadata": {},
   "source": [
    "# 3. 각 파일별로 chunking → 벡터DB 저장"
   ]
  },
  {
   "cell_type": "code",
   "execution_count": 3,
   "id": "c85c11f9",
   "metadata": {},
   "outputs": [
    {
     "name": "stderr",
     "output_type": "stream",
     "text": [
      "C:\\Users\\user\\AppData\\Local\\Temp\\ipykernel_23796\\4244311411.py:1: LangChainDeprecationWarning: The class `HuggingFaceEmbeddings` was deprecated in LangChain 0.2.2 and will be removed in 1.0. An updated version of the class exists in the :class:`~langchain-huggingface package and should be used instead. To use it run `pip install -U :class:`~langchain-huggingface` and import as `from :class:`~langchain_huggingface import HuggingFaceEmbeddings``.\n",
      "  embedding_model = HuggingFaceEmbeddings(model_name=\"jhgan/ko-sbert-sts\")\n"
     ]
    },
    {
     "data": {
      "application/vnd.jupyter.widget-view+json": {
       "model_id": "f70c29f1fd764b00bef0e1332afb623e",
       "version_major": 2,
       "version_minor": 0
      },
      "text/plain": [
       "modules.json:   0%|          | 0.00/229 [00:00<?, ?B/s]"
      ]
     },
     "metadata": {},
     "output_type": "display_data"
    },
    {
     "data": {
      "application/vnd.jupyter.widget-view+json": {
       "model_id": "6b9cbcc840aa4047bc2a347e05def007",
       "version_major": 2,
       "version_minor": 0
      },
      "text/plain": [
       "config_sentence_transformers.json:   0%|          | 0.00/123 [00:00<?, ?B/s]"
      ]
     },
     "metadata": {},
     "output_type": "display_data"
    },
    {
     "data": {
      "application/vnd.jupyter.widget-view+json": {
       "model_id": "b1854692fbb34f65b93f48acd257915b",
       "version_major": 2,
       "version_minor": 0
      },
      "text/plain": [
       "README.md: 0.00B [00:00, ?B/s]"
      ]
     },
     "metadata": {},
     "output_type": "display_data"
    },
    {
     "data": {
      "application/vnd.jupyter.widget-view+json": {
       "model_id": "65bf0c3811954422b78f9425cedbb5fc",
       "version_major": 2,
       "version_minor": 0
      },
      "text/plain": [
       "sentence_bert_config.json:   0%|          | 0.00/53.0 [00:00<?, ?B/s]"
      ]
     },
     "metadata": {},
     "output_type": "display_data"
    },
    {
     "data": {
      "application/vnd.jupyter.widget-view+json": {
       "model_id": "61e1bb8529e1418c8a8efb1608f7c04b",
       "version_major": 2,
       "version_minor": 0
      },
      "text/plain": [
       "config.json:   0%|          | 0.00/620 [00:00<?, ?B/s]"
      ]
     },
     "metadata": {},
     "output_type": "display_data"
    },
    {
     "data": {
      "application/vnd.jupyter.widget-view+json": {
       "model_id": "199fd2fe5b194b55909a1f4493216d53",
       "version_major": 2,
       "version_minor": 0
      },
      "text/plain": [
       "pytorch_model.bin:   0%|          | 0.00/443M [00:00<?, ?B/s]"
      ]
     },
     "metadata": {},
     "output_type": "display_data"
    },
    {
     "data": {
      "application/vnd.jupyter.widget-view+json": {
       "model_id": "32e4e4dfbc6c46cca7084c32ad53bcb2",
       "version_major": 2,
       "version_minor": 0
      },
      "text/plain": [
       "tokenizer_config.json:   0%|          | 0.00/538 [00:00<?, ?B/s]"
      ]
     },
     "metadata": {},
     "output_type": "display_data"
    },
    {
     "data": {
      "application/vnd.jupyter.widget-view+json": {
       "model_id": "efc01f4bf37f463c85f5256612d4ae05",
       "version_major": 2,
       "version_minor": 0
      },
      "text/plain": [
       "vocab.txt: 0.00B [00:00, ?B/s]"
      ]
     },
     "metadata": {},
     "output_type": "display_data"
    },
    {
     "data": {
      "application/vnd.jupyter.widget-view+json": {
       "model_id": "fc23e728de4841258a334073b16d5e0f",
       "version_major": 2,
       "version_minor": 0
      },
      "text/plain": [
       "tokenizer.json: 0.00B [00:00, ?B/s]"
      ]
     },
     "metadata": {},
     "output_type": "display_data"
    },
    {
     "data": {
      "application/vnd.jupyter.widget-view+json": {
       "model_id": "6508d33a9c984244892658e75e52fdfa",
       "version_major": 2,
       "version_minor": 0
      },
      "text/plain": [
       "model.safetensors:   0%|          | 0.00/442M [00:00<?, ?B/s]"
      ]
     },
     "metadata": {},
     "output_type": "display_data"
    },
    {
     "data": {
      "application/vnd.jupyter.widget-view+json": {
       "model_id": "748beb7b7815480385a825875e7e73ad",
       "version_major": 2,
       "version_minor": 0
      },
      "text/plain": [
       "special_tokens_map.json:   0%|          | 0.00/112 [00:00<?, ?B/s]"
      ]
     },
     "metadata": {},
     "output_type": "display_data"
    },
    {
     "data": {
      "application/vnd.jupyter.widget-view+json": {
       "model_id": "7f78a87352b54acea86fd3306f500530",
       "version_major": 2,
       "version_minor": 0
      },
      "text/plain": [
       "config.json:   0%|          | 0.00/190 [00:00<?, ?B/s]"
      ]
     },
     "metadata": {},
     "output_type": "display_data"
    },
    {
     "name": "stderr",
     "output_type": "stream",
     "text": [
      "c:\\Users\\user\\Desktop\\medical_chatbot\\.venv\\lib\\site-packages\\torch\\nn\\modules\\module.py:1762: FutureWarning: `encoder_attention_mask` is deprecated and will be removed in version 4.55.0 for `BertSdpaSelfAttention.forward`.\n",
      "  return forward_call(*args, **kwargs)\n",
      "c:\\Users\\user\\Desktop\\medical_chatbot\\.venv\\lib\\site-packages\\torch\\nn\\modules\\module.py:1762: FutureWarning: `encoder_attention_mask` is deprecated and will be removed in version 4.55.0 for `BertSdpaSelfAttention.forward`.\n",
      "  return forward_call(*args, **kwargs)\n",
      "c:\\Users\\user\\Desktop\\medical_chatbot\\.venv\\lib\\site-packages\\torch\\nn\\modules\\module.py:1762: FutureWarning: `encoder_attention_mask` is deprecated and will be removed in version 4.55.0 for `BertSdpaSelfAttention.forward`.\n",
      "  return forward_call(*args, **kwargs)\n",
      "c:\\Users\\user\\Desktop\\medical_chatbot\\.venv\\lib\\site-packages\\torch\\nn\\modules\\module.py:1762: FutureWarning: `encoder_attention_mask` is deprecated and will be removed in version 4.55.0 for `BertSdpaSelfAttention.forward`.\n",
      "  return forward_call(*args, **kwargs)\n",
      "c:\\Users\\user\\Desktop\\medical_chatbot\\.venv\\lib\\site-packages\\torch\\nn\\modules\\module.py:1762: FutureWarning: `encoder_attention_mask` is deprecated and will be removed in version 4.55.0 for `BertSdpaSelfAttention.forward`.\n",
      "  return forward_call(*args, **kwargs)\n",
      "c:\\Users\\user\\Desktop\\medical_chatbot\\.venv\\lib\\site-packages\\torch\\nn\\modules\\module.py:1762: FutureWarning: `encoder_attention_mask` is deprecated and will be removed in version 4.55.0 for `BertSdpaSelfAttention.forward`.\n",
      "  return forward_call(*args, **kwargs)\n"
     ]
    }
   ],
   "source": [
    "embedding_model = HuggingFaceEmbeddings(model_name=\"jhgan/ko-sbert-sts\")\n",
    "\n",
    "\n",
    "def chunk_text(texts, chunk_size=300):\n",
    "    \"\"\"간단하게 문자열을 일정 길이로 자르는 함수\"\"\"\n",
    "    chunks = []\n",
    "    for text in texts:\n",
    "        if pd.isnull(text):\n",
    "            continue\n",
    "        for i in range(0, len(text), chunk_size):\n",
    "            chunk = text[i : i + chunk_size]\n",
    "            if chunk.strip():\n",
    "                chunks.append(chunk)\n",
    "    return chunks\n",
    "\n",
    "\n",
    "### 1. 1200_v1.csv\n",
    "df_1200 = pd.read_csv(os.path.join(data, \"1200_v1.csv\"))\n",
    "texts_1200 = df_1200[\"label\"].astype(str) + \"\\n\" + df_1200[\"text\"].astype(str)\n",
    "chunks_1200 = chunk_text(texts_1200.tolist(), chunk_size=300)\n",
    "db_1200 = FAISS.from_texts(chunks_1200, embedding=embedding_model)\n",
    "db_1200.save_local(\"faiss_db_1200_v1\")\n",
    "\n",
    "### 2. amc.csv\n",
    "df_amc = pd.read_csv(os.path.join(data, \"amc.csv\"))\n",
    "# '병명', '정의', '원인', '증상', '진단', '치료', '진료과' 모두 하나로 합치기 (필요한 부분만 골라도 됨)\n",
    "amc_texts = (\n",
    "    df_amc[\"병명\"].astype(str)\n",
    "    + \"\\n\"\n",
    "    + df_amc[\"정의\"].astype(str)\n",
    "    + \"\\n\"\n",
    "    + df_amc[\"원인\"].astype(str)\n",
    "    + \"\\n\"\n",
    "    + df_amc[\"증상\"].astype(str)\n",
    "    + \"\\n\"\n",
    "    + df_amc[\"진단\"].astype(str)\n",
    "    + \"\\n\"\n",
    "    + df_amc[\"치료\"].astype(str)\n",
    ")\n",
    "chunks_amc = chunk_text(amc_texts.tolist(), chunk_size=400)\n",
    "db_amc = FAISS.from_texts(chunks_amc, embedding=embedding_model)\n",
    "db_amc.save_local(\"faiss_db_amc\")\n",
    "\n",
    "### 3. daily_dataset.csv\n",
    "df_daily = pd.read_csv(os.path.join(data, \"daily_dataset.csv\"))\n",
    "daily_texts = df_daily[\"증상\"].astype(str) + \"\\n\" + df_daily[\"일상말\"].astype(str)\n",
    "chunks_daily = chunk_text(daily_texts.tolist(), chunk_size=250)\n",
    "db_daily = FAISS.from_texts(chunks_daily, embedding=embedding_model)\n",
    "db_daily.save_local(\"faiss_db_daily_dataset\")\n",
    "\n",
    "### 4. final_v7.csv\n",
    "df_final = pd.read_csv(os.path.join(data, \"final_v7.csv\"))\n",
    "final_texts = df_final[\"label\"].astype(str) + \"\\n\" + df_final[\"text\"].astype(str)\n",
    "chunks_final = chunk_text(final_texts.tolist(), chunk_size=300)\n",
    "db_final = FAISS.from_texts(chunks_final, embedding=embedding_model)\n",
    "db_final.save_local(\"faiss_db_final_v7\")\n",
    "\n",
    "### 5. kdca.csv\n",
    "df_kdca = pd.read_csv(os.path.join(data, \"kdca.csv\"))\n",
    "kdca_texts = (\n",
    "    df_kdca[\"병명\"].astype(str)\n",
    "    + \"\\n\"\n",
    "    + df_kdca[\"정의\"].astype(str)\n",
    "    + \"\\n\"\n",
    "    + df_kdca[\"원인\"].astype(str)\n",
    "    + \"\\n\"\n",
    "    + df_kdca[\"증상\"].astype(str)\n",
    "    + \"\\n\"\n",
    "    + df_kdca[\"진단\"].astype(str)\n",
    "    + \"\\n\"\n",
    "    + df_kdca[\"치료\"].astype(str)\n",
    ")\n",
    "chunks_kdca = chunk_text(kdca_texts.tolist(), chunk_size=400)\n",
    "db_kdca = FAISS.from_texts(chunks_kdca, embedding=embedding_model)\n",
    "db_kdca.save_local(\"faiss_db_kdca\")\n",
    "\n",
    "### 6. snu.csv\n",
    "df_snu = pd.read_csv(os.path.join(data, \"snu.csv\"))\n",
    "snu_texts = (\n",
    "    df_snu[\"병명\"].astype(str)\n",
    "    + \"\\n\"\n",
    "    + df_snu[\"정의\"].astype(str)\n",
    "    + \"\\n\"\n",
    "    + df_snu[\"원인\"].astype(str)\n",
    "    + \"\\n\"\n",
    "    + df_snu[\"증상\"].astype(str)\n",
    "    + \"\\n\"\n",
    "    + df_snu[\"진단/검사\"].astype(str)\n",
    "    + \"\\n\"\n",
    "    + df_snu[\"치료\"].astype(str)\n",
    ")\n",
    "chunks_snu = chunk_text(snu_texts.tolist(), chunk_size=400)\n",
    "db_snu = FAISS.from_texts(chunks_snu, embedding=embedding_model)\n",
    "db_snu.save_local(\"faiss_db_snu\")"
   ]
  },
  {
   "cell_type": "markdown",
   "id": "8400730b",
   "metadata": {},
   "source": [
    "# 4-1. RAG(검색+생성) 파이프라인으로 작업"
   ]
  },
  {
   "cell_type": "code",
   "execution_count": 6,
   "id": "a25dde34",
   "metadata": {},
   "outputs": [
    {
     "name": "stdout",
     "output_type": "stream",
     "text": [
      "\n",
      "[AX-4.0 답변]\n",
      "\n"
     ]
    },
    {
     "data": {
      "text/markdown": [
       "1. 감기, 부비동염, 폐렴\n",
       "2. 내분비내과(내분비 질환 체크 후 필요시 내과 또는 호흡기내과로 전과)\n",
       "3. 손 씻기 습관화, 충분한 수분 섭취와 실내 습도 조절 유지"
      ],
      "text/plain": [
       "<IPython.core.display.Markdown object>"
      ]
     },
     "metadata": {},
     "output_type": "display_data"
    }
   ],
   "source": [
    "# [1] 사용자 질문 입력\n",
    "user_question = input(\"질문을 입력하세요: \")\n",
    "\n",
    "# [2] 여러 벡터DB 모두 로드\n",
    "db_paths = [\n",
    "    \"faiss_db_1200_v1\",\n",
    "    \"faiss_db_amc\",\n",
    "    \"faiss_db_daily_dataset\",\n",
    "    \"faiss_db_final_v7\",\n",
    "    \"faiss_db_kdca\",\n",
    "    \"faiss_db_snu\",\n",
    "]\n",
    "db_list = [\n",
    "    FAISS.load_local(db_path, embedding_model, allow_dangerous_deserialization=True)\n",
    "    for db_path in db_paths\n",
    "]\n",
    "\n",
    "# [3] 각 DB에서 Top-k 검색, 결과 합치기 (속도↑, top_k=1)\n",
    "top_k = 1\n",
    "retrieved_chunks = []\n",
    "for db in db_list:\n",
    "    docs = db.similarity_search(user_question, k=top_k)\n",
    "    retrieved_chunks.extend([doc.page_content for doc in docs])\n",
    "\n",
    "# [4] context(검색 결과) 텍스트로 결합 (전체 길이 제한)\n",
    "retrieved_context = \"\\n---\\n\".join(retrieved_chunks)\n",
    "max_context_length = 600\n",
    "retrieved_context = retrieved_context[:max_context_length]\n",
    "\n",
    "# [5] 프롬프트 생성 (딱 3문장만, 안내/예시 금지)\n",
    "prompt = f\"\"\"\n",
    "아래 환자 증상에 대해 반드시 1~3번 형식으로만 딱 한 번 출력하세요.\n",
    "절대 반복하거나 설명하지 말고, 줄바꿈 없이 한 줄로 출력하세요.\n",
    "\n",
    "1. 예상되는 병명(2~3가지):\n",
    "2. 추천 진료과(1줄):\n",
    "3. 예방 및 관리 방법(2줄 이내):\n",
    "\n",
    "[증상 정보]\n",
    "{retrieved_context}\n",
    "\"\"\"\n",
    "\n",
    "# [6] SKT A.X-4.0 API로 답변 생성 (OpenAI 스타일)\n",
    "client = OpenAI(\n",
    "    base_url=\"https://guest-api.sktax.chat/v1\",\n",
    "    api_key=\"sktax-XyeKFrq67ZjS4EpsDlrHHXV8it\"  # 여기에 발급받은 키를 넣으세요\n",
    ")\n",
    "\n",
    "response = client.chat.completions.create(\n",
    "    model=\"ax4\",  # skt/A.X-4.0 API 전용 모델명 (주의: \"skt/A.X-4.0\" 아님)\n",
    "    messages=[\n",
    "        {\"role\": \"user\", \"content\": prompt}\n",
    "    ]\n",
    ")\n",
    "answer = response.choices[0].message.content.strip()\n",
    "\n",
    "# [7] 번호 답변만 추출 (정규표현식)\n",
    "matches = re.findall(r\"1\\..*?\\n2\\..*?\\n3\\..*(?=\\n|$)\", answer, flags=re.DOTALL)\n",
    "answer_only = matches[-1].strip() if matches else answer\n",
    "\n",
    "print(\"\\n[AX-4.0 답변]\\n\")\n",
    "display(Markdown(answer_only))"
   ]
  },
  {
   "cell_type": "code",
   "execution_count": null,
   "id": "bbce6f82",
   "metadata": {},
   "outputs": [],
   "source": []
  },
  {
   "cell_type": "code",
   "execution_count": null,
   "id": "9f07951a",
   "metadata": {},
   "outputs": [
    {
     "name": "stdout",
     "output_type": "stream",
     "text": [
      "\n",
      "[AX-4.0 답변]\n",
      "\n"
     ]
    },
    {
     "data": {
      "text/markdown": [
       "1. 감기, 부비동염, 기관지염:\n",
       "2. 이비인후과, 호흡기내과:\n",
       "3. 충분한 수분 섭취, 휴식 및 실내 습도 유지:"
      ],
      "text/plain": [
       "<IPython.core.display.Markdown object>"
      ]
     },
     "metadata": {},
     "output_type": "display_data"
    }
   ],
   "source": [
    "# [1] 사용자 질문 입력\n",
    "user_question = input(\"질문을 입력하세요: \")\n",
    "\n",
    "# [2] 여러 벡터DB 모두 로드\n",
    "db_paths = [\n",
    "    \"faiss_db_1200_v1\",\n",
    "    \"faiss_db_amc\",\n",
    "    \"faiss_db_daily_dataset\",\n",
    "    \"faiss_db_final_v7\",\n",
    "    \"faiss_db_kdca\",\n",
    "    \"faiss_db_snu\",\n",
    "]\n",
    "db_list = [\n",
    "    FAISS.load_local(db_path, embedding_model, allow_dangerous_deserialization=True)\n",
    "    for db_path in db_paths\n",
    "]\n",
    "\n",
    "# [3] 각 DB에서 Top-k 검색, 결과 합치기 (속도↑, top_k=1)\n",
    "top_k = 1\n",
    "retrieved_chunks = []\n",
    "for db in db_list:\n",
    "    docs = db.similarity_search(user_question, k=top_k)\n",
    "    retrieved_chunks.extend([doc.page_content for doc in docs])\n",
    "\n",
    "# [4] context(검색 결과) 텍스트로 결합 (전체 길이 제한)\n",
    "retrieved_context = \"\\n---\\n\".join(retrieved_chunks)\n",
    "max_context_length = 600\n",
    "retrieved_context = retrieved_context[:max_context_length]\n",
    "\n",
    "# [5] 프롬프트 생성 (딱 3문장만, 안내/예시 금지)\n",
    "prompt = f\"\"\"\n",
    "아래 환자 증상에 대해 반드시 1~3번 형식으로만 딱 한 번 출력하세요.\n",
    "절대 반복하거나 설명하지 말고, 줄바꿈 없이 한 줄로 출력하세요.\n",
    "\n",
    "1. 예상되는 병명(2~3가지):\n",
    "2. 추천 진료과(1줄):\n",
    "3. 예방 및 관리 방법(2줄 이내):\n",
    "\n",
    "[증상 정보]\n",
    "{retrieved_context}\n",
    "\"\"\"\n",
    "\n",
    "# [6] SKT A.X-4.0 API로 답변 생성 (OpenAI 스타일)\n",
    "client = OpenAI(\n",
    "    base_url=\"https://guest-api.sktax.chat/v1\",\n",
    "    api_key=\"sktax-XyeKFrq67ZjS4EpsDlrHHXV8it\"  # 여기에 발급받은 키를 넣으세요\n",
    ")\n",
    "\n",
    "response = client.chat.completions.create(\n",
    "    model=\"ax4\",  # skt/A.X-4.0 API 전용 모델명 (주의: \"skt/A.X-4.0\" 아님)\n",
    "    messages=[\n",
    "        {\"role\": \"user\", \"content\": prompt}\n",
    "    ]\n",
    ")\n",
    "answer = response.choices[0].message.content.strip()\n",
    "\n",
    "# [7] 번호 답변만 추출 (정규표현식)\n",
    "matches = re.findall(r\"1\\..*?\\n2\\..*?\\n3\\..*(?=\\n|$)\", answer, flags=re.DOTALL)\n",
    "answer_only = matches[-1].strip() if matches else answer\n",
    "\n",
    "print(\"\\n[AX-4.0 답변]\\n\")\n",
    "display(Markdown(answer_only))"
   ]
  },
  {
   "cell_type": "code",
   "execution_count": null,
   "id": "2649e9b9",
   "metadata": {},
   "outputs": [],
   "source": []
  }
 ],
 "metadata": {
  "kernelspec": {
   "display_name": ".venv",
   "language": "python",
   "name": "python3"
  },
  "language_info": {
   "codemirror_mode": {
    "name": "ipython",
    "version": 3
   },
   "file_extension": ".py",
   "mimetype": "text/x-python",
   "name": "python",
   "nbconvert_exporter": "python",
   "pygments_lexer": "ipython3",
   "version": "3.10.11"
  }
 },
 "nbformat": 4,
 "nbformat_minor": 5
}
