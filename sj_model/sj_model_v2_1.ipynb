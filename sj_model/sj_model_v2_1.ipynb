{
 "cells": [
  {
   "cell_type": "markdown",
   "id": "d39d32e7",
   "metadata": {},
   "source": [
    "# 전처리에서 일시 멈춤"
   ]
  },
  {
   "cell_type": "markdown",
   "id": "e9351198",
   "metadata": {},
   "source": [
    "# 1. 모듈"
   ]
  },
  {
   "cell_type": "code",
   "execution_count": null,
   "id": "55eaa36e",
   "metadata": {},
   "outputs": [
    {
     "name": "stdout",
     "output_type": "stream",
     "text": [
      "C:\\Users\\user\\.cache\\huggingface\\hub\n"
     ]
    }
   ],
   "source": [
    "from transformers.utils import default_cache_path\n",
    "\n",
    "print(default_cache_path)"
   ]
  },
  {
   "cell_type": "code",
   "execution_count": 1,
   "id": "cd45fea3",
   "metadata": {},
   "outputs": [],
   "source": [
    "# 실행 전 PyTorch 캐시 비우기\n",
    "import torch\n",
    "\n",
    "torch.cuda.empty_cache()"
   ]
  },
  {
   "cell_type": "code",
   "execution_count": 2,
   "id": "517e73fd",
   "metadata": {},
   "outputs": [
    {
     "name": "stdout",
     "output_type": "stream",
     "text": [
      "True\n",
      "1\n",
      "NVIDIA GeForce RTX 4070\n"
     ]
    }
   ],
   "source": [
    "import os, json, re\n",
    "import pandas as pd\n",
    "from tqdm import tqdm\n",
    "from typing import List\n",
    "from langchain_core.documents import Document\n",
    "from langchain.text_splitter import RecursiveCharacterTextSplitter\n",
    "from langchain.vectorstores import FAISS\n",
    "from langchain.embeddings import HuggingFaceEmbeddings\n",
    "from langchain.chains import RetrievalQA\n",
    "from langchain.prompts import PromptTemplate\n",
    "from langchain.llms import HuggingFacePipeline\n",
    "from langchain_community.llms.huggingface_pipeline import HuggingFacePipeline\n",
    "from transformers import AutoTokenizer, AutoModelForCausalLM, pipeline\n",
    "from PyPDF2 import PdfReader\n",
    "from torch.utils.data import DataLoader\n",
    "\n",
    "# GPU 확인용 코드\n",
    "# CPU 사용시 느림 현상으로 멈춤 => GPU 사용\n",
    "import torch\n",
    "\n",
    "print(torch.cuda.is_available())\n",
    "print(torch.cuda.device_count())\n",
    "print(torch.cuda.get_device_name(0))"
   ]
  },
  {
   "cell_type": "markdown",
   "id": "f4846af8",
   "metadata": {},
   "source": [
    "# 2. 데이터 불러오기\n",
    "## 2_1 파인튜닝/학습용 데이터"
   ]
  },
  {
   "cell_type": "code",
   "execution_count": 3,
   "id": "ff3437f8",
   "metadata": {},
   "outputs": [
    {
     "name": "stdout",
     "output_type": "stream",
     "text": [
      "파인튜닝 데이터셋1 (1200_clean):\n",
      "  label                                               text\n",
      "0    건선  지난 몇 주 동안 팔, 다리, 몸통에 피부 발진이 생겼어요. 빨갛고 가려운데, 마른...\n",
      "1    건선  제 피부가 벗겨지고 있어요, 특히 무릎, 팔꿈치, 그리고 두피 쪽이요. 이 벗겨짐이... \n",
      "\n",
      "====================================================================================================\n",
      "파인튜닝 데이터셋2 (final_v4):\n",
      "      label                                               text\n",
      "0      알레르기  저는 천식을 앓고 있어서 쌕쌕거리는 소리와 호흡 곤란이 있습니다. 또한 열이 나고 ...\n",
      "1  조기 난소 부전  원발성 난소 부전의 징후와 증상은 폐경이나 에스트로겐 결핍과 유사합니다. 이러한 증... \n",
      "\n"
     ]
    }
   ],
   "source": [
    "# 파일 경로\n",
    "base_dir = \"../dataset/\"\n",
    "\n",
    "# 파인튜닝/학습용 데이터\n",
    "df_train_1 = pd.read_csv(base_dir + \"1200_v1.csv\")\n",
    "df_train_2 = pd.read_csv(base_dir + \"final_v7.csv\")\n",
    "\n",
    "# 확인 (처음 2개 row 출력)\n",
    "print(\"파인튜닝 데이터셋1 (1200_clean):\")\n",
    "print(df_train_1.head(2), \"\\n\")\n",
    "print(\"=\" * 100)\n",
    "print(\"파인튜닝 데이터셋2 (final_v4):\")\n",
    "print(df_train_2.head(2), \"\\n\")"
   ]
  },
  {
   "cell_type": "markdown",
   "id": "5c01c490",
   "metadata": {},
   "source": [
    "## 2_2 벡터DB용 데이터\n",
    "### 2_2_1 클로링한 데이터"
   ]
  },
  {
   "cell_type": "code",
   "execution_count": 4,
   "id": "96ebbf7f",
   "metadata": {},
   "outputs": [
    {
     "name": "stdout",
     "output_type": "stream",
     "text": [
      "벡터DB 데이터셋1 (snu_health_more_cleaned):\n",
      "                      병명                                                 정의  \\\n",
      "0  가랑이통증 [Perineal pain]  넓게는 외음부-여성의 바깥 생식기관-불두덩(치골구), 대음순, 소음순, 음핵, 처녀...   \n",
      "1    가성근시 [pseudomyopia]  근시란 먼 곳을 볼 때 눈으로 들어간 빛의 초점이 망막보다 앞에 맺히는 것이다. 가...   \n",
      "\n",
      "                                                  원인  \\\n",
      "0  요로감염이나 항문 농양 등의 감염, 해당 부위의 양성 또는 악성 종양, 관련 부위의...   \n",
      "1  근거리 물체를 볼 때 수정체를 감싼 모양체 근육이 수축돼 수정체가 두꺼워지고 먼 거...   \n",
      "\n",
      "                                                  증상  \\\n",
      "0  원인에 따라 증상에 다소 차이가 있을 수 있다. *요로감염: 배뇨통 및 빈뇨, 절박...   \n",
      "1  원거리 시력저하가 나타나고 과도한 모양체 근육의 수축으로 인해서 눈이 피로하고 안구...   \n",
      "\n",
      "                                               진단/검사  \\\n",
      "0                                                NaN   \n",
      "1  가성근시는 일반적인 시력검사로는 알기 어렵다. 안과에서의 굴절 검사(현성 굴절 검사...   \n",
      "\n",
      "                                                  치료          진료과  \n",
      "0  원인에 따른 치료가 기본으로 감염일 경우 항생제, 농양일 경우 절개와 배농 등으로 ...         산부인과  \n",
      "1  먼저 약물 치료 전 가성근시를 유발시킬 수 있는 생활조건에 대해 확인한다. 대부분 ...  안과, 정신건강의학과   \n",
      "\n",
      "====================================================================================================\n",
      "벡터DB 데이터셋2 (amc_disease_more):\n",
      "                                병명  \\\n",
      "0   18번 염색체 단완결실 증후군(18p monosomy)   \n",
      "1  18번 염색체 장완결실 증후군 (18q monosomy)   \n",
      "\n",
      "                                                  정의  \\\n",
      "0  18번 염색체 단완결실 증후군은 흔하지 않지만 특징적인 표현형을 가지고 있는 질환을...   \n",
      "1  18번 염색체 장완결실 증후군은 흔한 염색체 이상 질환은 아니지만, 특징적인 표현형...   \n",
      "\n",
      "                                                  원인  \\\n",
      "0  대부분 염색체 검사를 통해 18번 염색체 단완결실이 확인됩니다. 이 경우 환자의 8...   \n",
      "1  18번 염색체 장완결실 증후군은 대부분 자연발생적으로 발생합니다. 나머지는 18번 ...   \n",
      "\n",
      "                                                  증상  \\\n",
      "0  18번 염색체 단완결실 증후군에는 소두증, 안검 하수, 사시, 양안 격리증, 크고 ...   \n",
      "1  18번 염색체 장완결실 증후군은 소두증, 안면 중앙부 저형성, 깊게 패인 눈, 짧은...   \n",
      "\n",
      "                                                  진단  \\\n",
      "0  18번 염색체 단완결실 증후군은 일반적으로 세포 유전학적 검사(말초혈액 염색체 검사...   \n",
      "1  18번 염색체 장완결실 증후군의 진단은 일반적으로 세포 유전학적 검사(말초 혈액 염...   \n",
      "\n",
      "                                                  치료     진료과  \n",
      "0  18번 염색체 단완결실 증후군은 각 신체 증상에 대한 보존적 치료, 학습 치료, 재...  의학유전학과  \n",
      "1  18번 염색체 장완결실 증후군 치료는 신체 각 부위의 증상에 대한 치료, 재활 치료...  의학유전학과   \n",
      "\n"
     ]
    }
   ],
   "source": [
    "# 벡터DB용 데이터(클로링한 데이터)\n",
    "df_vector_1 = pd.read_csv(base_dir + \"snu_health_more_cleaned.csv\")\n",
    "df_vector_2 = pd.read_csv(base_dir + \"amc_disease_more.csv\")\n",
    "\n",
    "# 확인 (처음 2개 row 출력)\n",
    "print(\"벡터DB 데이터셋1 (snu_health_more_cleaned):\")\n",
    "print(df_vector_1.head(2), \"\\n\")\n",
    "print(\"=\" * 100)\n",
    "print(\"벡터DB 데이터셋2 (amc_disease_more):\")\n",
    "print(df_vector_2.head(2), \"\\n\")"
   ]
  },
  {
   "cell_type": "markdown",
   "id": "44f134f7",
   "metadata": {},
   "source": [
    "### 2_2_2 AI_HUB의 QA데이터\n",
    "medicaL_legal_corpus/Validation/02.라벨링 데이터 불러오기"
   ]
  },
  {
   "cell_type": "code",
   "execution_count": 5,
   "id": "6ae4ee86",
   "metadata": {},
   "outputs": [
    {
     "name": "stdout",
     "output_type": "stream",
     "text": [
      "Validation QA 샘플 수: 1920\n",
      "첫 번째 샘플: {'qa_id': 1103, 'domain': 17, 'q_type': 1, 'question': '25세 남자가 피로와 쉽게 멍이 드는 증상으로 내원하였다. 최근 몇 주간 무력감이 점점 심해졌으며, 약간의 운동에도 숨이 차다고 한다. 양치하다가 잇몸에서 피가 나는 경우도 잦다. 혈압 110/70mmHg, 맥박 75회/분, 호흡 18회/분, 체온 38.3°C이다. 신체 진찰 시 결막은 창백하고 공막에 황달은 없었다. 간과 지라는 촉진되지 않았고, 가슴 X선 촬영도 정상이다. 검사 결과는 다음과 같다. 다음으로 시행해야 할 검사는?  \\n혈액 검사 결과: 혈색소 8.0g/dL, 백혈구 2,000/mm³, 혈소판 50,000/mm³, C-반응단백질 31mg/L (참고치, <10) \\n\\n1) 심초음파  \\n2) 복부 및 골반 컴퓨터단층촬영  \\n3) 철 결핍 검사  \\n4) 골수흡인 및 생검  \\n5) 복부초음파 검사', 'answer': '4) 골수흡인 및 생검'}\n"
     ]
    }
   ],
   "source": [
    "valid_label_dir = \"../dataset/medical_knowledge_QA/Validation/02.라벨링데이터\"\n",
    "valid_qa_list = []\n",
    "\n",
    "for filename in os.listdir(valid_label_dir):\n",
    "    if filename.endswith(\".json\"):\n",
    "        file_path = os.path.join(valid_label_dir, filename)\n",
    "        with open(file_path, encoding=\"utf-8-sig\") as f:\n",
    "            qa = json.load(f)\n",
    "        valid_qa_list.append(qa)\n",
    "\n",
    "print(\"Validation QA 샘플 수:\", len(valid_qa_list))\n",
    "if valid_qa_list:\n",
    "    print(\"첫 번째 샘플:\", valid_qa_list[0])\n",
    "else:\n",
    "    print(\"샘플 없음\")"
   ]
  },
  {
   "cell_type": "markdown",
   "id": "eea79314",
   "metadata": {},
   "source": [
    "# 3 파인튜닝\n",
    "## 3_1. 데이터 저장 (CSV → jsonl 변환)"
   ]
  },
  {
   "cell_type": "code",
   "execution_count": 6,
   "id": "5b5ac7bf",
   "metadata": {},
   "outputs": [],
   "source": [
    "# 데이터셋 1\n",
    "df_train_1.rename(columns={\"label\": \"instruction\", \"text\": \"output\"}, inplace=True)\n",
    "df_train_1.to_json(\n",
    "    \"1200_v1_train.jsonl\", orient=\"records\", lines=True, force_ascii=False\n",
    ")\n",
    "\n",
    "# 데이터셋 2\n",
    "df_train_2.rename(columns={\"label\": \"instruction\", \"text\": \"output\"}, inplace=True)\n",
    "df_train_2.to_json(\n",
    "    \"final_v6_train.jsonl\", orient=\"records\", lines=True, force_ascii=False\n",
    ")"
   ]
  },
  {
   "cell_type": "markdown",
   "id": "62614adf",
   "metadata": {},
   "source": [
    "## 3_2. 파인튜닝 코드"
   ]
  },
  {
   "cell_type": "code",
   "execution_count": null,
   "id": "332a5260",
   "metadata": {},
   "outputs": [],
   "source": [
    "from datasets import load_dataset\n",
    "from transformers import AutoTokenizer, AutoModelForCausalLM\n",
    "from torch.utils.data import DataLoader\n",
    "import torch\n",
    "\n",
    "# 1. 모델 및 토크나이저 로드\n",
    "# nlpai-lab/KULLM3\n",
    "HF_TOKEN = \"\"  # 허깅페이스 개인 키\n",
    "model_name = \"nlpai-lab/kullm-polyglot-5.8b-v2\"\n",
    "\n",
    "tokenizer = AutoTokenizer.from_pretrained(model_name, token=HF_TOKEN)\n",
    "tokenizer.pad_token = tokenizer.eos_token\n",
    "model = AutoModelForCausalLM.from_pretrained(\n",
    "    model_name,\n",
    "    token=HF_TOKEN,\n",
    "    device_map=\"auto\",\n",
    "    torch_dtype=\"auto\",\n",
    "    offload_folder=\"./offload\",\n",
    ")\n",
    "\n",
    "# 2. 데이터셋 불러오기 & 전처리\n",
    "dataset1 = load_dataset(\"json\", data_files=\"1200_v1_train.jsonl\", split=\"train\")\n",
    "\n",
    "\n",
    "def format_prompt(example):\n",
    "    return {\n",
    "        \"text\": f\"### Instruction:\\n{example['instruction']}\\n\\n### Answer:\\n{example['output']}\"\n",
    "    }\n",
    "\n",
    "\n",
    "dataset1 = dataset1.map(format_prompt)\n",
    "\n",
    "\n",
    "def tokenize_function(example):\n",
    "    tokenized = tokenizer(\n",
    "        example[\"text\"], truncation=True, padding=\"max_length\", max_length=256\n",
    "    )\n",
    "    # labels 추가 (input_ids 복사)\n",
    "    tokenized[\"labels\"] = tokenized[\"input_ids\"].copy()\n",
    "    return tokenized\n",
    "\n",
    "\n",
    "tokenized_dataset1 = dataset1.map(tokenize_function, batched=True)\n",
    "\n",
    "# 텐서만 남기고 DataLoader 사용\n",
    "tokenized_dataset1.set_format(\n",
    "    type=\"torch\", columns=[\"input_ids\", \"attention_mask\", \"labels\"]\n",
    ")\n",
    "loader1 = DataLoader(tokenized_dataset1, batch_size=1, shuffle=True)\n",
    "\n",
    "# 3. 옵티마이저\n",
    "optimizer = torch.optim.AdamW(model.parameters(), lr=2e-5)\n",
    "\n",
    "# 4. 파인튜닝 루프\n",
    "model.train()\n",
    "for epoch in range(2):\n",
    "    for batch in loader1:\n",
    "        batch = {k: v.to(model.device) for k, v in batch.items()}\n",
    "        outputs = model(**batch)\n",
    "        loss = outputs.loss\n",
    "        loss.backward()\n",
    "        optimizer.step()\n",
    "        optimizer.zero_grad()\n",
    "        print(loss.item())"
   ]
  },
  {
   "cell_type": "code",
   "execution_count": null,
   "id": "239937f2",
   "metadata": {},
   "outputs": [],
   "source": [
    "# 두 번째 데이터셋 불러오기 & 전처리\n",
    "dataset2 = load_dataset(\"json\", data_files=\"final_v6_train.jsonl\", split=\"train\")\n",
    "\n",
    "\n",
    "def format_prompt(example):\n",
    "    return {\n",
    "        \"text\": f\"### Instruction:\\n{example['instruction']}\\n\\n### Answer:\\n{example['output']}\"\n",
    "    }\n",
    "\n",
    "\n",
    "dataset2 = dataset2.map(format_prompt)\n",
    "\n",
    "\n",
    "def tokenize_function(example):\n",
    "    tokenized = tokenizer(\n",
    "        example[\"text\"], truncation=True, padding=\"max_length\", max_length=512\n",
    "    )\n",
    "    tokenized[\"labels\"] = tokenized[\"input_ids\"].copy()\n",
    "    return tokenized\n",
    "\n",
    "\n",
    "tokenized_dataset2 = dataset2.map(tokenize_function, batched=True)\n",
    "tokenized_dataset2.set_format(\n",
    "    type=\"torch\", columns=[\"input_ids\", \"attention_mask\", \"labels\"]\n",
    ")\n",
    "loader2 = DataLoader(tokenized_dataset2, batch_size=1, shuffle=True)\n",
    "\n",
    "# 3. 옵티마이저 준비\n",
    "optimizer = torch.optim.AdamW(model.parameters(), lr=2e-5)\n",
    "\n",
    "# 4. 파인튜닝 루프 (dataset2)\n",
    "model.train()\n",
    "for epoch in range(2):\n",
    "    for batch in loader2:\n",
    "        batch = {k: v.to(model.device) for k, v in batch.items()}\n",
    "        outputs = model(**batch)\n",
    "        loss = outputs.loss\n",
    "        loss.backward()\n",
    "        optimizer.step()\n",
    "        optimizer.zero_grad()\n",
    "        print(loss.item())"
   ]
  },
  {
   "cell_type": "markdown",
   "id": "d9392704",
   "metadata": {},
   "source": [
    "# 4. 벡터DB 구축 (청크 + 임베딩 + 저장)\n",
    "(1) 데이터 프리프로세싱:\n",
    "\n",
    "snu_health_more_cleaned.csv, amc_disease_more.csv 등에서 텍스트 추출\n",
    "\n",
    "(2) 텍스트 청크(chunk) 단위로 자르기:\n",
    "\n",
    "(예시) RecursiveCharacterTextSplitter 등 사용\n",
    "\n",
    "길이(예: 300~1000자)와 오버랩(겹침) 설정\n",
    "\n",
    "(3) 임베딩 생성:\n",
    "\n",
    "SBERT/KoSBERT 등 임베딩 모델로 청크별 임베딩 벡터 생성\n",
    "\n",
    "(4) 벡터DB 저장:\n",
    "\n",
    "FAISS, Qdrant 등 선택"
   ]
  },
  {
   "cell_type": "code",
   "execution_count": null,
   "id": "0a54833d",
   "metadata": {},
   "outputs": [],
   "source": []
  },
  {
   "cell_type": "markdown",
   "id": "d3deae78",
   "metadata": {},
   "source": [
    "# 5. RAG 파이프라인 구축\n",
    "(1) 모델 로딩:\n",
    "\n",
    "파인튜닝된 Llama-2-7b-chat-hf 모델 (허가 후 다운)\n",
    "\n",
    "(2) 벡터DB 로딩:\n",
    "\n",
    "저장된 FAISS 등 벡터DB 로드\n",
    "\n",
    "(3) 검색 + 생성 연결:\n",
    "\n",
    "사용자의 질문 → 임베딩 → 벡터DB에서 유사 문서 검색\n",
    "\n",
    "찾은 컨텍스트 + 질문을 모델 프롬프트로 전달\n",
    "\n",
    "모델이 답변 생성"
   ]
  },
  {
   "cell_type": "code",
   "execution_count": null,
   "id": "468a563a",
   "metadata": {},
   "outputs": [],
   "source": []
  },
  {
   "cell_type": "markdown",
   "id": "1ee5f9ff",
   "metadata": {},
   "source": [
    "# 6.질문 입력 → 답변 출력\n",
    "- 간단한 CLI, Jupyter, 또는 ipywidgets UI 활용 가능\n",
    "- 실시간 질문 입력 → RAG 파이프라인 → 답변\n",
    "\n"
   ]
  },
  {
   "cell_type": "code",
   "execution_count": null,
   "id": "66cfa51b",
   "metadata": {},
   "outputs": [],
   "source": []
  },
  {
   "cell_type": "markdown",
   "id": "c4bd87c0",
   "metadata": {},
   "source": [
    "# 샘플 코드 워크플로우 (요약)"
   ]
  },
  {
   "cell_type": "code",
   "execution_count": null,
   "id": "78695ad5",
   "metadata": {},
   "outputs": [],
   "source": [
    "# 1. 청크+임베딩+벡터DB 저장 (한 번만)\n",
    "# splitter = RecursiveCharacterTextSplitter(chunk_size=800, chunk_overlap=100)\n",
    "# documents = splitter.create_documents(your_texts)\n",
    "# embedding_model = HuggingFaceEmbeddings(model_name=\"jhgan/ko-sbert-sts\")\n",
    "# db = FAISS.from_documents(documents, embedding=embedding_model)\n",
    "# db.save_local(\"your_vector_db_folder\")\n",
    "\n",
    "# 2. 파인튜닝된 LLM과 벡터DB 로드, RAG 체인 연결\n",
    "# model = AutoModelForCausalLM.from_pretrained(...)\n",
    "# tokenizer = AutoTokenizer.from_pretrained(...)\n",
    "# llm_pipeline = pipeline(...)\n",
    "# llm = HuggingFacePipeline(pipeline=llm_pipeline)\n",
    "# db = FAISS.load_local(\"your_vector_db_folder\", embedding_model)\n",
    "# retriever = db.as_retriever(search_type=\"similarity\", search_kwargs={\"k\":5})\n",
    "\n",
    "# qa_chain = RetrievalQA.from_chain_type(\n",
    "#     llm=llm, chain_type=\"stuff\", retriever=retriever, return_source_documents=True\n",
    "# )\n",
    "\n",
    "# 3. 질문 입력 → 답변 출력\n",
    "# query = \"질문 입력\"\n",
    "# result = qa_chain({\"query\": query})\n",
    "# print(result[\"result\"])\n",
    "# print(result[\"source_documents\"])"
   ]
  }
 ],
 "metadata": {
  "kernelspec": {
   "display_name": ".venv",
   "language": "python",
   "name": "python3"
  },
  "language_info": {
   "codemirror_mode": {
    "name": "ipython",
    "version": 3
   },
   "file_extension": ".py",
   "mimetype": "text/x-python",
   "name": "python",
   "nbconvert_exporter": "python",
   "pygments_lexer": "ipython3",
   "version": "3.10.11"
  }
 },
 "nbformat": 4,
 "nbformat_minor": 5
}
