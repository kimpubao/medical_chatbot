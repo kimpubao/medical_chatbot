{
 "cells": [
  {
   "cell_type": "markdown",
   "id": "436c4749",
   "metadata": {},
   "source": [
    "# Mistral-7B-Instruct 모델"
   ]
  },
  {
   "cell_type": "markdown",
   "id": "c57018d0",
   "metadata": {},
   "source": [
    "## \"학습” 안 하는 이유\n",
    "1. 데이터 로딩/전처리:\n",
    "의료 QA 데이터 등 → 텍스트 조각(Document)으로 분할 및 필터링\n",
    "2. 임베딩:\n",
    "Ko-SBERT 등 “사전학습된 임베딩 모델”로 텍스트를 벡터로 변환\n",
    "(여기서 학습이 아니라 “이미 학습된 모델로 변환”만 하는 것)\n",
    "3. 벡터DB 생성:\n",
    "FAISS에 임베딩 벡터 저장\n",
    "4. 질의응답:\n",
    "사용자가 질문하면 →\n",
    "    - (1) 벡터DB에서 유사한 문서 검색\n",
    "    - (2) Mistral-7B-Instruct 등 대형 언어모델(역시 “사전학습된”)이\n",
    "검색된 문서 조각들을 참고해서 답변 생성\n",
    "## 실제 “학습”이란?\n",
    "- 파인튜닝/미세조정 등은\n",
    "모델을 직접 추가로 훈련시키는 것 (모델 파라미터가 변함)\n",
    "- 예시: model.fit(), trainer.train(), “epochs”, “loss” 등이 코드에 나옴\n",
    "\n",
    "지금 코드의 RAG 구조는:\n",
    "- 임베딩 모델(KoSBERT): 이미 학습된 걸 “불러와서” 임베딩만 실행\n",
    "- LLM(Mistral-7B-Instruct 등): 이미 학습된 걸 “불러와서” 답변 생성만 하는 것\n",
    "- 파인튜닝(학습) 없음\n",
    "\n",
    "## 요약\n",
    "“임베딩/벡터DB/질의응답 파이프라인”이지\n",
    "모델 파인튜닝(학습)은 안 하는 구조"
   ]
  },
  {
   "cell_type": "markdown",
   "id": "5266cbb8",
   "metadata": {},
   "source": [
    "# “RAG 없는 LLM 챗봇”\n",
    "1. 학습(파인튜닝)이 필요한 경우가 많음\n",
    "2. LLM(예: Mistral, Llama, GPT 등)만 놓고 사용하면\n",
    "- → 사전학습 범위 내의 지식만 답변\n",
    "- → 회사/기관/도메인 고유 정보, 최신 정보 반영 불가\n",
    "- → 답변 품질, 일관성 낮음\n",
    "\n",
    "3. **우리 데이터/지식으로 LLM을 ‘맞춤화’**하고 싶으면\n",
    "→ 파인튜닝(학습)이 필요\n",
    "\n",
    "# “RAG 있는 LLM 챗봇”\n",
    "1. 학습(파인튜닝) 없이도 실제 업무·실전 서비스 가능\n",
    "- 내·외부 문서, 자료를 벡터DB로 embedding해서\n",
    "- “검색-답변(Retrieval + Generation)” 방식으로 동작\n",
    "- LLM은 문서에서 답을 찾아서 생성\n",
    "- 우리 데이터만 잘 embedding하면 바로 적용\n",
    "(LLM은 사전학습된 상태 그대로 사용)\n",
    "\n",
    "# 정리\n",
    "1. RAG 없음 → 파인튜닝 거의 필수\n",
    "(실무 적용/특화된 답변 원할 때)\n",
    "\n",
    "2. RAG 있음 → 파인튜닝 필요 없음\n",
    "(거의 모든 도메인 챗봇, 사내 QA 가능)\n",
    "\n",
    "# RAG는 “검색+생성” 구조라 우리 데이터를 LLM에 직접 넣어주지 않아도, 최신/도메인 정보로 답변 가능"
   ]
  },
  {
   "cell_type": "markdown",
   "id": "a034da57",
   "metadata": {},
   "source": [
    "===================================================================================================================================================================================================="
   ]
  },
  {
   "cell_type": "markdown",
   "id": "cf953df3",
   "metadata": {},
   "source": [
    "## 임포트 및 환경 설정"
   ]
  },
  {
   "cell_type": "code",
   "execution_count": 2,
   "id": "6d5e67c3",
   "metadata": {},
   "outputs": [],
   "source": [
    "import os, json\n",
    "import pandas as pd\n",
    "from tqdm import tqdm\n",
    "from typing import List\n",
    "from langchain_core.documents import Document\n",
    "from langchain.text_splitter import RecursiveCharacterTextSplitter\n",
    "from langchain.vectorstores import FAISS\n",
    "from langchain.embeddings import HuggingFaceEmbeddings\n",
    "from langchain.chains import RetrievalQA\n",
    "from langchain.prompts import PromptTemplate\n",
    "from langchain.llms import HuggingFacePipeline\n",
    "from langchain_community.llms.huggingface_pipeline import HuggingFacePipeline\n",
    "from transformers import AutoTokenizer, AutoModelForCausalLM\n",
    "import requests\n",
    "from PyPDF2 import PdfReader\n",
    "from langchain.text_splitter import RecursiveCharacterTextSplitter\n",
    "from transformers import pipeline\n",
    "import re"
   ]
  },
  {
   "cell_type": "code",
   "execution_count": null,
   "id": "3ed6bbab",
   "metadata": {},
   "outputs": [],
   "source": [
    "# GPU 확인용 코드\n",
    "# CPU 사용시 느림 현상으로 멈춤 => GPU 사용\n",
    "import torch\n",
    "\n",
    "print(torch.cuda.is_available())  # True면 GPU / False면 CPU\n",
    "print(torch.cuda.device_count())\n",
    "print(torch.cuda.get_device_name(0))  # GPU 이름 확인"
   ]
  },
  {
   "cell_type": "code",
   "execution_count": 4,
   "id": "7e28c80e",
   "metadata": {},
   "outputs": [],
   "source": [
    "# protobuf 에러로 인하여 버전 확인용 코드\n",
    "# import google.protobuf\n",
    "# print(google..__version__)"
   ]
  },
  {
   "cell_type": "markdown",
   "id": "3cd04a55",
   "metadata": {},
   "source": [
    "# 1. 데이터 불러오기"
   ]
  },
  {
   "cell_type": "markdown",
   "id": "4f8f5711",
   "metadata": {},
   "source": [
    "## 1-1. 네이버 데이터 불러오기"
   ]
  },
  {
   "cell_type": "code",
   "execution_count": 5,
   "id": "0e0a1397",
   "metadata": {},
   "outputs": [],
   "source": [
    "# 네이버 CSV\n",
    "# naver = pd.read_csv('dataset/naver_health_v1_cleaned.csv')\n",
    "\n",
    "# 상위 5개 행 확인\n",
    "# naver.head()"
   ]
  },
  {
   "cell_type": "code",
   "execution_count": 6,
   "id": "1d54274b",
   "metadata": {},
   "outputs": [
    {
     "name": "stdout",
     "output_type": "stream",
     "text": [
      "네이버 문서 수: 1240\n",
      "--------------------------------------------------\n",
      "샘플 1개: {'id': 'naver_0000', 'text': '가랑이통증 [Perineal pain]은(는) 원인에 따라 증상에 다소 차이가 있을 수 있다. *요로감염:  배뇨통  및 빈뇨,  절박뇨 , 골반부위의 둔통 등 *항문주위농양: 발적과 종창, 압통 및 욱신거리는 통증을 동반한 덩이(감염에 의한 경우 열 및 오한을 동반할 수 있음) *음부신경포착증후군: 앉은자세일때 심해지는 통증 *골반바닥근육의 이상: 배뇨, 배변시의 장애 동반 등 증상이 나타나는 질환이며, 관련 진료과는 산부인과입니다.'}\n"
     ]
    }
   ],
   "source": [
    "# 네이버 JSON\n",
    "with open(\"dataset/naver_docs.json\", encoding=\"utf-8\") as f:\n",
    "    naver = json.load(f)\n",
    "\n",
    "print(\"네이버 문서 수:\", len(naver))\n",
    "print(\"-\" * 50)\n",
    "print(\"샘플 1개:\", naver[0])"
   ]
  },
  {
   "cell_type": "markdown",
   "id": "c234c6c1",
   "metadata": {},
   "source": [
    "## 1-2. 아산병원 데이터 불러오기"
   ]
  },
  {
   "cell_type": "code",
   "execution_count": 7,
   "id": "c11cb009",
   "metadata": {},
   "outputs": [],
   "source": [
    "# amc CSV\n",
    "# naver = pd.read_csv('dataset/amc_disease_v3_cleaned.csv')\n",
    "\n",
    "# 상위 5개 행 확인\n",
    "# naver.head()"
   ]
  },
  {
   "cell_type": "code",
   "execution_count": 8,
   "id": "f8509932",
   "metadata": {},
   "outputs": [
    {
     "name": "stdout",
     "output_type": "stream",
     "text": [
      "AMC 문서 수: 1278\n",
      "--------------------------------------------------\n",
      "샘플 1개: {'id': 'amc_0000', 'text': '18번 염색체 단완결실 증후군(18p monosomy)은(는) 18번 염색체 단완결실 증후군에는 소두증, 안검 하수, 사시, 양안 격리증, 크고 처진 입, 소하악증, 크고 돌출된 귀, 전전뇌증(10%), 심장 기형, 성장 장애, 충치, 면역글로불린A(IgA) 결핍, 대머리, 터너 증후군(일부 환자) 증상이 동반됩니다. 이 증후군으로 인해 정신 지체가 발생한 경우에는 IQ가 25~75 정도로 나타납니다. 전전뇌증이 없는 경우에는 대부분 성인까지 생존합니다. 증상이 나타나는 질환이며, 관련 진료과는 의학유전학과입니다.'}\n"
     ]
    }
   ],
   "source": [
    "# AMC JSON\n",
    "with open(\"dataset/amc_docs.json\", encoding=\"utf-8\") as f:\n",
    "    amc = json.load(f)\n",
    "\n",
    "print(\"AMC 문서 수:\", len(amc))\n",
    "print(\"-\" * 50)\n",
    "print(\"샘플 1개:\", amc[0])"
   ]
  },
  {
   "cell_type": "markdown",
   "id": "40c14c4e",
   "metadata": {},
   "source": [
    "## 1-3. medical_knowledge_QA 폴더 데이터 불러오기"
   ]
  },
  {
   "cell_type": "code",
   "execution_count": 9,
   "id": "0f5cd925",
   "metadata": {},
   "outputs": [
    {
     "name": "stdout",
     "output_type": "stream",
     "text": [
      "총 불러온 문항 수: 17280\n",
      "--------------------------------------------------\n",
      "예시: {'qa_id': 11, 'domain': 17, 'q_type': 1, 'question': '23세 여자가 3개월 전부터 기침을 한다며 내원했다. 기침은 밤에 누워 자려고 할 때 심해진다고 한다. 1년 전에도 같은 시기에 기침이 3개월 동안 지속되다가 저절로 호전된 병력이 있다. 콧물이나 인후부 불편감은 없으며, 비흡연자이고 복용 중인 약물도 없다. 신체검사에서 혈압 120/80mmHg, 맥박 78회/분, 호흡 18회/분, 체온 36.5°C로 측정되었다. 청진상 호흡음은 정상이었고, 가슴 X선 사진과 코곁굴 X선 사진에서도 이상 소견이 없었다. 폐기능검사 결과는 다음과 같다.  \\n- 강제 폐활량(FVC): 정상 예측치의 91%  \\n- 1초간 강제날숨유량(FEV1): 정상 예측치의 85%  \\n- 1초간 강제날숨유량/강제폐활량(FEV1/FVC): 75%  \\n\\n이 환자에서 다음으로 시행해야 할 검사는 무엇인가?  \\n1) 기관지내시경  \\n2) 기관지 확장제 반응 검사  \\n3) 가슴 컴퓨터단층촬영(CT) \\n4) 메타콜린 기관지유발검사  \\n5) 폐 확산능 검사', 'answer': '4) 메타콜린 기관지유발검사'}\n"
     ]
    }
   ],
   "source": [
    "# 폴더 경로 리스트\n",
    "label_dirs = [\n",
    "    \"dataset/medical_knowledge_QA/Training/02.라벨링데이터\",\n",
    "    \"dataset/medical_knowledge_QA/Validation/02.라벨링데이터\",\n",
    "]\n",
    "\n",
    "all_qa_data = []\n",
    "\n",
    "for label_dir in label_dirs:\n",
    "    for filename in os.listdir(label_dir):\n",
    "        if filename.endswith(\".json\"):\n",
    "            file_path = os.path.join(label_dir, filename)\n",
    "            with open(file_path, encoding=\"utf-8-sig\") as f:\n",
    "                try:\n",
    "                    data = json.load(f)\n",
    "                    all_qa_data.append(data)\n",
    "                except Exception as e:\n",
    "                    print(f\"[오류] {filename}: {e}\")\n",
    "\n",
    "print(\"총 불러온 문항 수:\", len(all_qa_data))\n",
    "print(\"-\" * 50)\n",
    "print(\"예시:\", all_qa_data[0])"
   ]
  },
  {
   "cell_type": "markdown",
   "id": "219151b0",
   "metadata": {},
   "source": [
    "## 1-4. medical_legal_corpus 폴더 원천 데이터 불러오기"
   ]
  },
  {
   "cell_type": "code",
   "execution_count": 10,
   "id": "cbe4afed",
   "metadata": {},
   "outputs": [
    {
     "name": "stdout",
     "output_type": "stream",
     "text": [
      "총 텍스트 문서 수: 37507\n",
      "--------------------------------------------------\n",
      "샘플 문서: MPA000001.txt\n",
      "--------------------------------------------------\n",
      "본 발명에 의한 안마장치는 높이가 조절 가능한 두 개의 받침대 사이에 전후로 이동 가능토록 설치된 안마장치로서, 상기 안마장치는 상기 받침대 내측에 설치된 가이드를 따라 전후로 이동되는 프레임과, 상기 프레임 내부의 일정위치에 고정된 모터와, 상기 모터의 회전축에 설치된 워엄 기어와, 상기 워엄 기어에 맞물려 동력을 전달하게 되는 기어들과, 상기 기어들의 동력을 전달받아 회전되는 회전축과, 상기 회전축에 일정각도 기울어지도록 끼워지고 상부에 사람의 몸체를 안마하게 되는 다수개의 돌기가 방사형으로 형성된 안마판과, 상기 안마판이 전후\n"
     ]
    }
   ],
   "source": [
    "text_dir = \"dataset/medical_legal_corpus/Training/01.원천데이터\"\n",
    "all_texts = []\n",
    "\n",
    "for filename in os.listdir(text_dir):\n",
    "    if filename.endswith(\".txt\"):\n",
    "        file_path = os.path.join(text_dir, filename)\n",
    "        with open(file_path, encoding=\"utf-8-sig\") as f:\n",
    "            text = f.read()\n",
    "            all_texts.append({\"filename\": filename, \"text\": text})\n",
    "\n",
    "print(\"총 텍스트 문서 수:\", len(all_texts))\n",
    "print(\"-\" * 50)\n",
    "print(\"샘플 문서:\", all_texts[0][\"filename\"])\n",
    "print(\"-\" * 50)\n",
    "print(all_texts[0][\"text\"][:300])"
   ]
  },
  {
   "cell_type": "markdown",
   "id": "5992ba24",
   "metadata": {},
   "source": [
    "## 1-5. 라벨링 QA (Training_medical.json) 불러오기"
   ]
  },
  {
   "cell_type": "code",
   "execution_count": 11,
   "id": "b416b0d5",
   "metadata": {},
   "outputs": [
    {
     "name": "stdout",
     "output_type": "stream",
     "text": [
      "총 QA 항목 수: 37507\n",
      "--------------------------------------------------\n",
      "샘플 QA: {'book_id': 'MPA000001', 'category': '재활의학/물리치료학/작업치료학', 'popularity': 2, 'keyword': ['척추부', '근육', '받침대', '온열치료', '척추'], 'text': '본 발명에 의한 안마장치는 높이가 조절 가능한 두 개의 받침대 사이에 전후로 이동 가능토록 설치된 안마장치로서, 상기 안마장치는 상기 받침대 내측에 설치된 가이드를 따라 전후로 이동되는 프레임과, 상기 프레임 내부의 일정위치에 고정된 모터와, 상기 모터의 회전축에 설치된 워엄 기어와, 상기 워엄 기어에 맞물려 동력을 전달하게 되는 기어들과, 상기 기어들의 동력을 전달받아 회전되는 회전축과, 상기 회전축에 일정각도 기울어지도록 끼워지고 상부에 사람의 몸체를 안마하게 되는 다수개의 돌기가 방사형으로 형성된 안마판과, 상기 안마판이 전후 이동하도록 상기 프레임을 전후방향으로 구동하는 프레임 구동장치를 포함하는 것을 특징으로 한다. 본 발명에 의한 안마장치는 상기 받침대 상부면에 받침대 사이의 공간을 받칠 수 있도록 부드러운 재질로 이루어진 시트가 설치된 것을 특징으로 한다. 본 발명에 의한 안마장치는 상기 안마판에 안마판이 회전되지 않으면서 상하로만 진동하도록 회전축이 끼워지는 부분에 베어링이 설치된 것을 특징으로 한다. 본 발명에 의한 안마장치는 상기 프레임 구동장치가 상기 프레임의 전후에 각각 양단이 연결된 두 개의 체인과, 상기 체인이 걸치게 되는 각각의 스프로킷과, 상기 스프로킷을 구동하는 모터로 구성된 것을 특징으로 한다. 본 발명에 의한 안마장치는 상기 안마판이 사람의 척추의 좌우를 안마할 수 있도록 사람의 척추 양쪽을 따라 두 개가 설치된 것을 특징으로 한다. 본 발명에 의한 안마장치는 상기 안마판이 중앙에 한 개가 설치되되, 그 상면의 돌기가 사람의 척추에 닫지 않도록 형성된 것을 특징으로 하는 안마장치. 본 발명에 의한 안마장치는 상기 안마판의 돌기는 고무로 이루어진 것을 특징으로 한다. 본 발명에 의한 안마장치는 상기 안마판의 상부에 히터가 설치된 것을 특징으로 한다. 이하, 본 발명의 실시 예를 참조된 도면을 참조하여 설명하면 다음과 같다. 우선 참조된 도면, 도 1은 본 발명에 의한 안마장치에 사람이 누워있는 도면이고, 도 2는 본 발명에 의한 안마장치의 횡단면도이며, 도 3은 본 발명에 의한 안마장치의 일부구성요소가 제거된 상태의 평면도이고, 도 4는 본 발명에 의한 안마장치의 일부구성요소인 안마판의 정면도이며, 도 5는 본 발명에 의한 안마장치의 일부구성요소인 안마판의 분해사시도이고, 도 6은 본 발명에 의한 안마장치의 일부구성요소인 안마판과 회전축의 분해사시도이며, 도 7은 본 발명에 의한 안마장치의 안마판이 동작하는 측면도이고, 도 8은 본 발명에 의한 안마장치의 일부구성요소가 제거된 상태에서의 측면도이며, 도 9는 본 발명에 의한 안마장치의 다른 실시 예의 횡단면도이고, 마지막으로 도 10은 본 발명에 의한 안마장치의 다른 실시 예에 의한 안마판의 정면도이다. 본 발명에 의한 안마장치는 도 1에 도시된 바와 같이 베이스 플레이트(4) 상면에 일정한 간격을 두고 나란히 받침대(1)가 설치되고, 이 받침대(1)는 도 2에 도시된 바와 같이 그 높이가 조절할 수 있도록 구성한다. 이렇게 받침대(1)의 높이를 조절하는 구조는 공지기술로 용이하게 개발할 수 있기 때문에 그 구조의 자세한 것은 생략한다. 받침대(1)의 상면에는 부드러운 재질로 이루어진 커버 시트(2)가 설치되고, 그 위에 사람(3)이 누워 안마를 받게 된다. 안마를 위한 구성들은 받침대(1) 사이의 공간에 설치되고, 받침대(1) 사이의 공간을 따라 전후 방향으로 이동되면서 안마를 하게 되는 구조를 갖는다. 도 2는 상술한 안마를 위한 기계구조가 횡단면도로 잘 도시되어 있다. 본 발명에 의한 안마장치의 구성은 크게 사람(3)의 척추 양옆을 안마하기 위한 안마판(30)을 구동하는 구성과 안마판(30)을 전후방향으로 이동시키는 구성으로 나눌 수 있다. 안마판(30)을 구동하기 위한 구성으로서, 프레임(20) 내부에 안마판(30)의 구동력의 원천인 모터(21)가 고정되어 있고, 모터(21)의 회전축에는 도 3에 도시된 바와 같이 워엄 기어(21)가 설치되어 있으며, 그 구동력을 전달하기 위한 기어들(23,24)이 설치되어 있다. 마지막 기어(24)에는 회전축(25)이 끼워져 있고, 그 회전축(25)에 일정각도 기울어진 커플링(36)을 갖는 안마판(30)이 끼워진다. 본 실시 예에서는 모터(21)의 구동력은 두 개의 기어들(23,24)을 통하여 두 개의 안마판(30)에 전달되는 구조를 갖는다. 따라서 모터(21)가 회전하게 되면 두 개의 안마판(30)이 회전축(25)의 회전수에 비례하여 요동치면서 사람(3)의 척추 양옆 근육을 이완시킨다. 한편, 도 2와 도 3을 참고하면, 상기 프레임(20)의 양옆에는 두 개씩의 바퀴(26)가 달려 있고, 그 바퀴(26)는 가이드(10)의 홈(10a)에 끼워져 프레임(20)이 전후방향으로 이동 가능하게 한다. 따라서, 전후로 이동되면서 안마를 진행하게 된다. 도 8에 프레임(20)의 전후 구동을 위한 구조가 간략하게 도시되어 있는 바, 도시된 바와 같이 프레임(20)의 전후방에는 각 체인(100)의 양단이 연결되고, 그 체인들(100)은 각각의 스프로킷(110)에 감겨져 있으며, 한쪽의 스프로킷(110)에 모터(121)의 회전축이 연결되어 스프로킷(110)을 회전시키는 구조를 갖는다. 물론, 프레임(20)의 이동속도를 제어하기 위한 기어구조를 둘 수도 있다. 이와 같이 본 발명에 의한 안마장치는 전후로 구동하면서 안마판(30)이 요동하게 되기 때문에 척추 양옆의 모든 근육들을 안마할 수 있다. 도 4는 안마판(30)의 정면도로서, 원주 끝단부위에 방사형으로 돌기들(33a)이 형성되어 있고, 그 내측에는 커플링(36)이 일정각도 기울어져 설치되어 있는 것을 볼 수 있다. 또한, 돌기(33a)의 내측에는 히터(35)가 설치되어 온열치료기로서의 역할도 수행하게 된다. 따라서, 근육이완을 더욱 신속하게 한다. 도 5에는 상술한 안마판(30)의 구성요소가 분해되어 잘 도시되어 있다. 하판(31)과 상판(32), 그리고 고무상판(33)이 체결링(34)에 의해 결합되도록 되어 있다. 즉, 체결링(34) 하부에 형성되어 다수개의 보스(34a)가 고무상판(33), 상판(32), 그리고 하판(31)의 체결구멍들을 차례로 통과한 다음 나사들에 의해 체결된다. 고무상판(33)은 고무재질로 이루어지고, 상술한 돌기들(33a)도 고무로 이루어져 있기 때문에 안마시 사람(3)에게 통증을 느끼지 않을 정도의 적절한 압력을 제공한다. 하판(32)에는 다수개의 볼 베어링(37) 지지부재(31a)가 형성되고, 그 지지부재들(31a) 사이에 각각 하나씩의 볼 베어링(37)들이 설치되며, 커플링(36)의 외주면이 볼 베어링(37)에 접하도록 설치된다. 따라서, 커플링(36)이 회전하게 되더라도 안마판(30) 전체가 회전되지 않는 구조를 제공한다. 마지막으로, 고무상판(33)의 상면에는 히터(35)가 설치되는 바, 일정한 열을 근육에 전달하면서 안마를 하게 되기 때문에 더욱 근육이완을 향상시킬 수 있다. 도 6은 안마판(30)과 회전축(25)의 결합을 나타내는 사시도로서, 도시된 바와 같이 안마판(30)의 중앙에는 일정각도 기울어진 커플링(36)이 설치되어 있고, 그 커플링(36)의 구멍(36a)에 회전축(25)의 직경축소부(25a)가 끼워지게 된다. 커플링(36)의 구멍(36a)에는 서로 마주보는 돌기(36b)가 축방향을 따라 길게 형성되어 있고, 이에 대응하는 회전축(25)의 직경축소부(25a)에는 돌기(36b)가 끼워지는 홈(25b)이 형성되어 있다. 따라서, 회전축(25)이 회전하게 되면, 커플링(36)도 회전하게 된다. 다만, 볼 베어링(37)이 설치된 안마판(30)은 사람(3)과의 마찰력에 의해 회전되지 않고, 도 7에 도시된 바와 같이 좌우로 요동을 치게 된다. 도 7을 참고하면, 위 그림의 상태에서 회전축(25)이 180도 회전하게 되면, 커플링(36)은 180도 회전하게 되나, 사람(3)과의 마찰력에 의해 안마판(30)은 회전하지 않고 좌우로 요동치게 된다. 즉, 안마판(30)의 일정 위치의 지점 A는 상하로 요동치게 되는 것이다. 따라서, 회전축(25)이 회전하게 되면 안마판(36)의 돌기들(33a)이 사람의 근육에 압력을 전달했다가 해제하는 과정을 되풀이하면서 안마가 이루어지게 되는 것이다. 한편, 도 9 및 도 10은 본 발명에 의한 안마장치의 다른 실시 예를 나타내는 도면들이다. 도 9에는 그 횡단면도가 도시되어 있는 바, 도시된 바와 같이 두 개의 안마판(30)을 사용하는 것이 아니라, 하나의 안마판(30\\')을 사용한 점이 다르다. 다른 실시 예에 의한 안마판(30\\')은 도 10에 그 정면도가 도시되어 있는데, 전번의 실시 예와 다른 점은 안마판(30\\')이 하나만 설치되기 때문에 척추부분(200)에 접촉하게 되는 부위에는 돌기가 형성되어 있지 않고, 내측면에 원주방향으로 제2의 돌기들(33a\")이 역시 척추부분(200)에 접촉하게 되는 부위에는 돌기가 형성되지 않은 방식으로 형성되어 있는 것이 특징이다. 즉, 고무상판(33\\',33\")에 가운데의 일정부위를 중심으로 대칭으로 돌기(33a\\',33a\")를 이중으로 방사형으로 설치한 것이다. 물론, 히터(35\\')도 설치되어 근육이완을 돕는다. 따라서, 하나의 안마판(30\\')이 요동치면서 전후 방향으로 움직임으로써, 사용자의 척추 옆의 근육들을 안마하게 된다. 이와 같이, 본 발명에 의한 안마장치는 안마판이 요동치면서 전후로 움직이는 구조를 갖고 있기 때문에 척추 옆의 근육들을 길이방향을 따라 반복하여 이완시키도록 안마하는 효과를 제공한다. 또한, 본 발명에 의한 안마장치는 안마판에 히터가 설치되어 있기 때문에 근육을 더욱 신속하게 이완시킬 수 있는 효과를 제공한다. 본 발명은 상기 실시 예에 한정되지 않고 본 발명의 기술적 요지를 벗어나지 않는 범위 내에서 당해 기술분야의 통상의 지식을 가진 자에 의해 다양하게 변형 실시될 수 있다.', 'word_segment': 1263, 'publication_ymd': '20021011', 'NE': [{'id': 1, 'entity': '척추', 'type': 'TM_CELL_TISSUE_ORGAN', 'begin': 667, 'end': 668}, {'id': 2, 'entity': '척추', 'type': 'TM_CELL_TISSUE_ORGAN', 'begin': 689, 'end': 690}, {'id': 3, 'entity': '척추', 'type': 'TM_CELL_TISSUE_ORGAN', 'begin': 772, 'end': 773}, {'id': 4, 'entity': '척추', 'type': 'TM_CELL_TISSUE_ORGAN', 'begin': 1768, 'end': 1769}, {'id': 5, 'entity': '척추', 'type': 'TM_CELL_TISSUE_ORGAN', 'begin': 2210, 'end': 2211}, {'id': 6, 'entity': '근육', 'type': 'TM_CELL_TISSUE_ORGAN', 'begin': 2216, 'end': 2217}, {'id': 7, 'entity': '척추', 'type': 'TM_CELL_TISSUE_ORGAN', 'begin': 2652, 'end': 2653}, {'id': 8, 'entity': '근육', 'type': 'TM_CELL_TISSUE_ORGAN', 'begin': 2662, 'end': 2663}, {'id': 9, 'entity': '온열치료', 'type': 'TR_MED_PROCEDURE', 'begin': 2808, 'end': 2811}, {'id': 10, 'entity': '근육', 'type': 'TM_CELL_TISSUE_ORGAN', 'begin': 2835, 'end': 2836}, {'id': 11, 'entity': '통증', 'type': 'TMM_SYMPTOM', 'begin': 3110, 'end': 3111}, {'id': 12, 'entity': '근육', 'type': 'TM_CELL_TISSUE_ORGAN', 'begin': 3358, 'end': 3359}, {'id': 13, 'entity': '근육', 'type': 'TM_CELL_TISSUE_ORGAN', 'begin': 3385, 'end': 3386}, {'id': 14, 'entity': '근육', 'type': 'TM_CELL_TISSUE_ORGAN', 'begin': 3985, 'end': 3986}, {'id': 15, 'entity': '척추부', 'type': 'TM_CELL_TISSUE_ORGAN', 'begin': 4257, 'end': 4259}, {'id': 16, 'entity': '척추부', 'type': 'TM_CELL_TISSUE_ORGAN', 'begin': 4327, 'end': 4329}, {'id': 17, 'entity': '근육', 'type': 'TM_CELL_TISSUE_ORGAN', 'begin': 4477, 'end': 4478}, {'id': 18, 'entity': '척추', 'type': 'TM_CELL_TISSUE_ORGAN', 'begin': 4534, 'end': 4535}, {'id': 19, 'entity': '근육', 'type': 'TM_CELL_TISSUE_ORGAN', 'begin': 4540, 'end': 4541}, {'id': 20, 'entity': '척추', 'type': 'TM_CELL_TISSUE_ORGAN', 'begin': 4610, 'end': 4611}, {'id': 21, 'entity': '근육', 'type': 'TM_CELL_TISSUE_ORGAN', 'begin': 4616, 'end': 4617}, {'id': 22, 'entity': '근육', 'type': 'TM_CELL_TISSUE_ORGAN', 'begin': 4697, 'end': 4698}]}\n"
     ]
    }
   ],
   "source": [
    "label_path = (\n",
    "    \"dataset/medical_legal_corpus/Training/02.라벨링데이터/Training_medical.json\"\n",
    ")\n",
    "\n",
    "with open(label_path, encoding=\"utf-8-sig\") as f:\n",
    "    legal_qa_data = json.load(f)\n",
    "\n",
    "qa_items = legal_qa_data.get(\"data\", [])\n",
    "print(\"총 QA 항목 수:\", len(qa_items))\n",
    "print(\"-\" * 50)\n",
    "print(\"샘플 QA:\", qa_items[0])"
   ]
  },
  {
   "cell_type": "markdown",
   "id": "2d318792",
   "metadata": {},
   "source": [
    "## 1-6. pdf 텍스트 추출 후 문단 단위로 나누기"
   ]
  },
  {
   "cell_type": "code",
   "execution_count": 12,
   "id": "464a24c7",
   "metadata": {},
   "outputs": [
    {
     "name": "stdout",
     "output_type": "stream",
     "text": [
      "감염병 진단 및\n",
      "항생제 사용지침요양병원\n",
      "이 지침은 우리나라 요양병원에서 흔히 발생하는 폐렴, 요로감염, 피부연부조직감염 \n",
      "및 욕창 감염에서 감염병의 적절한 진단과 항생제의 적정 사용을 위해 개발되었으며, \n",
      "대한항균요법학회의 자문과 승인을 받았습니다.\n",
      " \n",
      "주요 내용은 요양병원의 현실에서 필요한 검사 및 경험적, 치료적 항생제의 선택에 관한  \n",
      "것으로, 현장의 활용도를 높이기 위해 기존 지침을 기반으로 단순한 임상경로 형태로 \n",
      "개발하였습니다.\n",
      " \n",
      "이 지침은 실제 진료 현장에서 개별 환자를 직접 진료하는 의사에게 참고 자료로 제공\n",
      "하기 위한 것으로, 모든 환자에게 일률적으로 적용하는 것을 권장하지 않습니다.\n",
      " \n",
      "또한, 개인적인 진료 및 교육 목적으로 사용될 수 있지만, 상업적 목적이나 진료 심사, \n",
      "임상 의사의 최종적 판단에 대한 적정성 평가 목적으로 사용될 수 없음을 밝힙니다.지침 사용안내 \n",
      "1 병원획득폐렴  ······································································ 05\n",
      " 임상경로 및 경험적 항생제 선택\n",
      " 치료적 항생제의 선택\n",
      "2  요로감염  ··········································································· 09\n",
      " 임상경로 및 경험적 항생제 선택\n",
      " 치료적 항생제의 선택\n",
      "3  피부연부조직감염  ································································ 13\n",
      " 임상경로 및 경험적 항생제 선택\n",
      " 치료적 항생제의 선택\n",
      "4 욕창감염  ············································································· 27\n",
      " 임상경로 및 경험적 항생제 선택\n",
      " 치료적 항생제의 선택\n",
      "5  신기능에 따른 항생제 용량 ····················································· 21목차\n",
      "감염병 진단\n",
      "문단 수: 36\n",
      "--------------------------------------------------\n",
      "감염병 진단 및\n",
      "항생제 사용지침요양병원\n",
      "이 지침은 우리나라 요양병원에서 흔히 발생하는 폐렴, 요로감염, 피부연부조직감염 \n",
      "및 욕창 감염에서 감염병의 적절한 진단과 항생제의 적정 사용을 위해 개발되었으며, \n",
      "대한항균요법학회의 자문과 승인을 받았습니다.\n",
      " \n",
      "주요 내용은 요양병원의 현실에서 필요한 검사 및 경험적, 치료적 항생제의 선택에 관한  \n",
      "것으로, 현장의 활용도를 높이기 위해 기존 지침을 기반으로 단순한 임상경로 형태로 \n",
      "개발하였습니다.\n",
      " \n",
      "이 지침은 실제 진료 현장에서 개별 환자를 직접 진료하는 의사에게 참고 자료로 제공\n",
      "하기 \n"
     ]
    }
   ],
   "source": [
    "reader = PdfReader(\"dataset/antibiotic_guideline_for_longtermcare.pdf\")\n",
    "all_text = \"\"\n",
    "\n",
    "for page in reader.pages:\n",
    "    all_text += page.extract_text() + \"\\n\"\n",
    "\n",
    "print(all_text[:1000])  # 상위 일부만 출력\n",
    "\n",
    "splitter = RecursiveCharacterTextSplitter(\n",
    "    chunk_size=800,\n",
    "    chunk_overlap=100,\n",
    ")\n",
    "chunks = splitter.split_text(all_text)\n",
    "\n",
    "print(f\"문단 수: {len(chunks)}\")\n",
    "print(\"-\" * 50)\n",
    "print(chunks[0][:300])  # 첫 문단 확인"
   ]
  },
  {
   "cell_type": "markdown",
   "id": "d56f807d",
   "metadata": {},
   "source": [
    "## 1-7. 약관련 데이터 API(일단 제외)"
   ]
  },
  {
   "cell_type": "code",
   "execution_count": 13,
   "id": "cc59b2c8",
   "metadata": {},
   "outputs": [],
   "source": [
    "# import urllib3\n",
    "# urllib3.disable_warnings(urllib3.exceptions.InsecureRequestWarning)"
   ]
  },
  {
   "cell_type": "code",
   "execution_count": 14,
   "id": "1b134ec3",
   "metadata": {},
   "outputs": [],
   "source": [
    "# import requests\n",
    "# import json\n",
    "\n",
    "# # 실제 API URL과 본인 서비스키\n",
    "# url = \"https://apis.data.go.kr/1471000/DrugPrdtPrmsnInfoService06\"\n",
    "# service_key = \"j5BnFLQrFMcichD048pxr5OZYe50JKjvUM7DpqQWOGeyKJ1NgIH+4bU6GwY/6kTcPXsqt82F6Tpkhd6BBQpXng==\"  # 인코딩 상태로 입력\n",
    "\n",
    "# params = {\n",
    "#     \"serviceKey\": service_key,\n",
    "#     \"pageNo\": 1,\n",
    "#     \"numOfRows\": 10,\n",
    "#     \"type\": \"json\"  # json 또는 xml (보통 json 추천)\n",
    "#     # 추가 파라미터는 공공데이터포털 문서 참고\n",
    "# }\n",
    "\n",
    "# headers = {\n",
    "#     \"User-Agent\": \"Mozilla/5.0\"\n",
    "# }\n",
    "\n",
    "# try:\n",
    "#     # API 요청\n",
    "#     response = requests.get(url, params=params, headers=headers, verify=False)\n",
    "#     response.raise_for_status()\n",
    "#     data = response.json()\n",
    "\n",
    "#     # 공공데이터포털은 보통 이렇게 중첩되어 있음\n",
    "#     # {'response': {'body': {'items': {'item': [...]}}}}\n",
    "#     items = []\n",
    "#     if isinstance(data, dict):\n",
    "#         items = (\n",
    "#             data.get('body', {}).get('items', {}).get('item')\n",
    "#             or data.get('response', {}).get('body', {}).get('items', {}).get('item')\n",
    "#             or data.get('response', {}).get('body', {}).get('items')\n",
    "#         )\n",
    "#         # 일부 API는 'item' 없이 리스트일 수도 있음\n",
    "\n",
    "#         if items:\n",
    "#             if isinstance(items, list):\n",
    "#                 for item in items:\n",
    "#                     # 예시: 생약명, 성분명, 효능 등\n",
    "#                     print(\n",
    "#                         \"생약명:\", item.get('PRDLST_NM'),    # 제품명/생약명\n",
    "#                         \"성분명:\", item.get('IFTKN_ATNT_MATR_CN'),  # 주요 성분/주의성분 등\n",
    "#                         \"효능:\", item.get('PRIMARY_FNCLTY')  # 효능\n",
    "#                     )\n",
    "#             elif isinstance(items, dict):\n",
    "#                 print(items)\n",
    "#             else:\n",
    "#                 print(\"데이터 형식:\", type(items), items)\n",
    "#         else:\n",
    "#             print(\"데이터가 없습니다.\")\n",
    "#     else:\n",
    "#         print(\"예상치 못한 데이터 형식입니다.\")\n",
    "\n",
    "# except requests.exceptions.RequestException as e:\n",
    "#     print(f\"API 요청 에러: {e}\")\n",
    "# except json.JSONDecodeError as e:\n",
    "#     print(f\"JSON 디코딩 에러: {e}\")\n",
    "# except Exception as e:\n",
    "#     print(f\"에러 발생: {e}\")"
   ]
  },
  {
   "cell_type": "markdown",
   "id": "b58fc6bc",
   "metadata": {},
   "source": [
    "# 2. 벡터 DB 생성 및 저장\n",
    "## 텍스트 추출 및 병합"
   ]
  },
  {
   "cell_type": "code",
   "execution_count": null,
   "id": "2fc3cdc6",
   "metadata": {},
   "outputs": [
    {
     "name": "stdout",
     "output_type": "stream",
     "text": [
      "총 수집된 문서 수: 77532\n"
     ]
    }
   ],
   "source": [
    "# 모든 텍스트를 리스트로 수집\n",
    "texts = []\n",
    "\n",
    "# 네이버, 아산병원\n",
    "texts += [doc[\"text\"] for doc in naver]\n",
    "texts += [doc[\"text\"] for doc in amc]\n",
    "\n",
    "# medical_knowledge_QA\n",
    "for item in all_qa_data:\n",
    "    if isinstance(item, list):\n",
    "        for qa in item:\n",
    "            q = qa.get(\"question\", \"\")\n",
    "            a = qa.get(\"answer\", \"\")\n",
    "            if q or a:\n",
    "                texts.append(q + \"\\n\" + a)\n",
    "\n",
    "# medical_legal_corpus\n",
    "texts += [doc[\"text\"] for doc in all_texts if isinstance(doc, dict) and \"text\" in doc]\n",
    "\n",
    "# 라벨링 QA\n",
    "texts += [qa.get(\"text\", \"\") for qa in qa_items if \"text\" in qa]\n",
    "\n",
    "print(f\"총 수집된 문서 수: {len(texts)}\")"
   ]
  },
  {
   "cell_type": "markdown",
   "id": "083fd757",
   "metadata": {},
   "source": [
    "## 텍스트 분할"
   ]
  },
  {
   "cell_type": "code",
   "execution_count": null,
   "id": "d181d5cc",
   "metadata": {},
   "outputs": [
    {
     "name": "stdout",
     "output_type": "stream",
     "text": [
      "분할된 문서 수: 513583\n"
     ]
    }
   ],
   "source": [
    "# 너무 긴 문서는 쪼갬 (임베딩 품질을 위해)\n",
    "splitter = RecursiveCharacterTextSplitter(\n",
    "    chunk_size=800, chunk_overlap=100, separators=[\"\\n\\n\", \"\\n\", \" \", \"\"]\n",
    ")\n",
    "\n",
    "documents = splitter.create_documents(texts)\n",
    "print(f\"분할된 문서 수: {len(documents)}\")"
   ]
  },
  {
   "cell_type": "markdown",
   "id": "a813f883",
   "metadata": {},
   "source": [
    "## 임베딩 및 FAISS 저장"
   ]
  },
  {
   "cell_type": "code",
   "execution_count": null,
   "id": "7e4b1041",
   "metadata": {},
   "outputs": [
    {
     "name": "stderr",
     "output_type": "stream",
     "text": [
      "C:\\Users\\user\\AppData\\Local\\Temp\\ipykernel_18080\\2390589246.py:2: LangChainDeprecationWarning: The class `HuggingFaceEmbeddings` was deprecated in LangChain 0.2.2 and will be removed in 1.0. An updated version of the class exists in the :class:`~langchain-huggingface package and should be used instead. To use it run `pip install -U :class:`~langchain-huggingface` and import as `from :class:`~langchain_huggingface import HuggingFaceEmbeddings``.\n",
      "  embedding_model = HuggingFaceEmbeddings(model_name=\"jhgan/ko-sbert-sts\")\n",
      "c:\\Users\\user\\Desktop\\medical_chatbot\\.venv\\lib\\site-packages\\torch\\nn\\modules\\module.py:1762: FutureWarning: `encoder_attention_mask` is deprecated and will be removed in version 4.55.0 for `BertSdpaSelfAttention.forward`.\n",
      "  return forward_call(*args, **kwargs)\n"
     ]
    },
    {
     "name": "stdout",
     "output_type": "stream",
     "text": [
      "FAISS 벡터 DB 저장 완료!\n"
     ]
    }
   ],
   "source": [
    "# Ko-SBERT 임베딩 모델\n",
    "embedding_model = HuggingFaceEmbeddings(model_name=\"jhgan/ko-sbert-sts\")\n",
    "\n",
    "# 벡터 DB 생성\n",
    "db = FAISS.from_documents(documents, embedding=embedding_model)\n",
    "\n",
    "# 로컬 저장\n",
    "db.save_local(\"faiss_medical_knowledge\")\n",
    "print(\"FAISS 벡터 DB 저장 완료!\")"
   ]
  },
  {
   "cell_type": "markdown",
   "id": "7ae432f4",
   "metadata": {},
   "source": [
    "# 3. 질의 응답용 Retriever 및 LLM 연결"
   ]
  },
  {
   "cell_type": "code",
   "execution_count": null,
   "id": "47c2431e",
   "metadata": {},
   "outputs": [],
   "source": [
    "# LLM 로딩\n",
    "model_name = \"mistralai/Mistral-7B-Instruct-v0.2\"\n",
    "\n",
    "tokenizer = AutoTokenizer.from_pretrained(model_name)\n",
    "model = AutoModelForCausalLM.from_pretrained(\n",
    "    model_name, device_map=\"auto\", torch_dtype=\"auto\"\n",
    ")\n",
    "\n",
    "llm_pipeline = pipeline(\n",
    "    \"text-generation\",\n",
    "    model=model,\n",
    "    tokenizer=tokenizer,\n",
    "    max_new_tokens=512,\n",
    "    do_sample=True,\n",
    "    temperature=0.7,\n",
    "    top_p=0.95,\n",
    "    repetition_penalty=1.15,\n",
    ")\n",
    "\n",
    "llm = HuggingFacePipeline(pipeline=llm_pipeline)"
   ]
  },
  {
   "cell_type": "markdown",
   "id": "d45e6869",
   "metadata": {},
   "source": [
    "# 4. 질의 응답 실행"
   ]
  },
  {
   "cell_type": "code",
   "execution_count": null,
   "id": "ac5839c5",
   "metadata": {},
   "outputs": [],
   "source": [
    "# 저장된 벡터 DB 로드\n",
    "db = FAISS.load_local(\n",
    "    \"faiss_medical_knowledge\",\n",
    "    embedding_model,\n",
    "    allow_dangerous_deserialization=True,  # 직접 만든 벡터DB만 True\n",
    ")\n",
    "\n",
    "# Retriever 설정\n",
    "retriever = db.as_retriever(search_type=\"similarity\", search_kwargs={\"k\": 5})\n",
    "\n",
    "# QA 체인 구성\n",
    "qa_chain = RetrievalQA.from_chain_type(\n",
    "    llm=llm, chain_type=\"stuff\", retriever=retriever, return_source_documents=True\n",
    ")"
   ]
  },
  {
   "cell_type": "markdown",
   "id": "ad9f630f",
   "metadata": {},
   "source": [
    "# 5-1. 사용자 입력에 따른 응답 출력"
   ]
  },
  {
   "cell_type": "code",
   "execution_count": null,
   "id": "8988cb56",
   "metadata": {},
   "outputs": [],
   "source": [
    "# while True:\n",
    "#     query = input(\"\\n질문을 입력하세요 (종료: exit): \")\n",
    "#     if query.lower() == \"exit\":\n",
    "#         break\n",
    "\n",
    "#     result = qa_chain({\"query\": query})\n",
    "#     print(\"\\n답변:\\n\", result[\"result\"])\n",
    "#     print(\"=\" * 200)\n",
    "#     print(\"\\n참고 문서:\")\n",
    "#     for i, doc in enumerate(result[\"source_documents\"]):\n",
    "#         print(f\"\\n[{i+1}] {doc.page_content[:300]}...\")"
   ]
  },
  {
   "cell_type": "markdown",
   "id": "ac2df985",
   "metadata": {},
   "source": [
    "# 5-2. 사용자 입력에 따른 응답 출력"
   ]
  },
  {
   "cell_type": "code",
   "execution_count": null,
   "id": "47b194f2",
   "metadata": {},
   "outputs": [],
   "source": [
    "import ipywidgets as widgets\n",
    "from IPython.display import display, clear_output\n",
    "\n",
    "# 질문 입력창, 버튼, 출력창 생성\n",
    "question_box = widgets.Text(\n",
    "    value=\"\",\n",
    "    placeholder=\"여기에 질문을 입력하세요\",\n",
    "    description=\"질문:\",\n",
    "    disabled=False,\n",
    ")\n",
    "output_box = widgets.Output()\n",
    "submit_btn = widgets.Button(description=\"질문하기\")\n",
    "\n",
    "\n",
    "def on_submit(btn):\n",
    "    query = question_box.value\n",
    "    if query.strip().lower() == \"exit\":\n",
    "        with output_box:\n",
    "            clear_output()\n",
    "            print(\"종료합니다.\")\n",
    "        return\n",
    "    with output_box:\n",
    "        clear_output()\n",
    "        print(\"답변을 생성하고 있습니다...\")\n",
    "        result = qa_chain({\"query\": query})\n",
    "        print(\"\\n[답변]:\", result[\"result\"])\n",
    "        print(\"=\" * 80)\n",
    "        print(\"[참고 문서]\")\n",
    "        for i, doc in enumerate(result[\"source_documents\"]):\n",
    "            print(f\"\\n[{i+1}] {doc.page_content[:300]}...\")\n",
    "\n",
    "\n",
    "submit_btn.on_click(on_submit)\n",
    "\n",
    "# 위젯 표시\n",
    "display(question_box, submit_btn, output_box)"
   ]
  },
  {
   "cell_type": "code",
   "execution_count": null,
   "id": "6928cc00",
   "metadata": {},
   "outputs": [],
   "source": []
  }
 ],
 "metadata": {
  "kernelspec": {
   "display_name": ".venv",
   "language": "python",
   "name": "python3"
  },
  "language_info": {
   "codemirror_mode": {
    "name": "ipython",
    "version": 3
   },
   "file_extension": ".py",
   "mimetype": "text/x-python",
   "name": "python",
   "nbconvert_exporter": "python",
   "pygments_lexer": "ipython3",
   "version": "3.10.11"
  }
 },
 "nbformat": 4,
 "nbformat_minor": 5
}
