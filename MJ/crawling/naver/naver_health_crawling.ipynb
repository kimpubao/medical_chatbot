{
 "cells": [
  {
   "cell_type": "code",
   "execution_count": 1,
   "id": "334955aa",
   "metadata": {},
   "outputs": [],
   "source": [
    "import requests\n",
    "from bs4 import BeautifulSoup\n",
    "import csv\n",
    "from tqdm import tqdm\n"
   ]
  },
  {
   "cell_type": "code",
   "execution_count": 2,
   "id": "30a4c934",
   "metadata": {},
   "outputs": [],
   "source": [
    "base_url = \"https://terms.naver.com/list.naver\"\n",
    "params_template = {\n",
    "    \"cid\": \"51007\",\n",
    "    \"categoryId\": \"51007\",\n",
    "    \"so\": \"st3.asc\",\n",
    "    \"viewType\": \"\",\n",
    "    \"categoryType\": \"\",\n",
    "    \"page\": None  # 여기에 페이지 번호를 넣을 예정\n",
    "}\n",
    "\n",
    "result = []\n",
    "headers = {\n",
    "    \"User-Agent\": \"Mozilla/5.0\"\n",
    "}\n"
   ]
  },
  {
   "cell_type": "code",
   "execution_count": 3,
   "id": "f2a196b8",
   "metadata": {},
   "outputs": [
    {
     "name": "stderr",
     "output_type": "stream",
     "text": [
      "100%|██████████| 118/118 [00:34<00:00,  3.37it/s]\n"
     ]
    }
   ],
   "source": [
    "for page in tqdm(range(1, 119)):  # 1~118 페이지까지\n",
    "    params_template[\"page\"] = page\n",
    "    response = requests.get(base_url, params=params_template, headers=headers)\n",
    "    soup = BeautifulSoup(response.text, \"html.parser\")\n",
    "\n",
    "    items = soup.select(\"#content > div.list_wrap > ul > li\")\n",
    "\n",
    "    for item in items:\n",
    "        a_tag = item.select_one(\"div > div.subject > strong > a\")\n",
    "        if a_tag:\n",
    "            title = a_tag.text.strip()\n",
    "            link = \"https://terms.naver.com\" + a_tag[\"href\"]\n",
    "            result.append((title, link))\n"
   ]
  },
  {
   "cell_type": "code",
   "execution_count": 4,
   "id": "6c3f86dd",
   "metadata": {},
   "outputs": [
    {
     "name": "stdout",
     "output_type": "stream",
     "text": [
      "1762개의 항목이 저장되었습니다.\n"
     ]
    }
   ],
   "source": [
    "with open(\"naver_health_terms.csv\", \"w\", newline=\"\", encoding=\"utf-8-sig\") as f:\n",
    "    writer = csv.writer(f)\n",
    "    writer.writerow([\"질환명\", \"링크\"])\n",
    "    writer.writerows(result)\n",
    "\n",
    "print(f\"{len(result)}개의 항목이 저장되었습니다.\")\n"
   ]
  }
 ],
 "metadata": {
  "kernelspec": {
   "display_name": "myenv1",
   "language": "python",
   "name": "python3"
  },
  "language_info": {
   "codemirror_mode": {
    "name": "ipython",
    "version": 3
   },
   "file_extension": ".py",
   "mimetype": "text/x-python",
   "name": "python",
   "nbconvert_exporter": "python",
   "pygments_lexer": "ipython3",
   "version": "3.10.16"
  }
 },
 "nbformat": 4,
 "nbformat_minor": 5
}
