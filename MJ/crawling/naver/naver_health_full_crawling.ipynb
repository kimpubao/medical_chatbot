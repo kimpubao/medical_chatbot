{
 "cells": [
  {
   "cell_type": "code",
   "execution_count": 1,
   "id": "0c43f693",
   "metadata": {},
   "outputs": [],
   "source": [
    "import requests\n",
    "from bs4 import BeautifulSoup\n",
    "import pandas as pd\n",
    "from tqdm import tqdm\n"
   ]
  },
  {
   "cell_type": "code",
   "execution_count": 2,
   "id": "22f5cf22",
   "metadata": {},
   "outputs": [],
   "source": [
    "def extract_symptoms(url):\n",
    "    headers = {\"User-Agent\": \"Mozilla/5.0\"}\n",
    "    try:\n",
    "        response = requests.get(url, headers=headers, timeout=10)\n",
    "        if response.status_code != 200:\n",
    "            return None\n",
    "        soup = BeautifulSoup(response.text, \"html.parser\")\n",
    "        symptom_title = soup.find(lambda tag: tag.name in ['strong', 'h3'] and '증상' in tag.text)\n",
    "        if not symptom_title:\n",
    "            return None\n",
    "        symptom_texts = []\n",
    "        for sibling in symptom_title.find_next_siblings():\n",
    "            if sibling.name in ['h3', 'strong'] and '증상' not in sibling.text:\n",
    "                break\n",
    "            if sibling.name in ['p', 'ul', 'dd']:\n",
    "                text = sibling.get_text(separator=\" \").strip().replace(\"\\n\", \" \")\n",
    "                if text:\n",
    "                    symptom_texts.append(text)\n",
    "        return \" \".join(symptom_texts).strip() if symptom_texts else None\n",
    "    except Exception as e:\n",
    "        print(f\"Error processing {url} (증상): {e}\")\n",
    "        return None\n"
   ]
  },
  {
   "cell_type": "code",
   "execution_count": 3,
   "id": "89c14eed",
   "metadata": {},
   "outputs": [],
   "source": [
    "def extract_departments(url):\n",
    "    headers = {\"User-Agent\": \"Mozilla/5.0\"}\n",
    "    try:\n",
    "        response = requests.get(url, headers=headers, timeout=10)\n",
    "        if response.status_code != 200:\n",
    "            return None\n",
    "        soup = BeautifulSoup(response.text, \"html.parser\")\n",
    "        dept_row = soup.find('th', string=lambda x: x and '진료과' in x)\n",
    "        if not dept_row:\n",
    "            return None\n",
    "        td = dept_row.find_next_sibling('td')\n",
    "        if not td:\n",
    "            return None\n",
    "        dept_list = [a.text.strip() for a in td.find_all('a') if a.text.strip()]\n",
    "        return \", \".join(dept_list) if dept_list else None\n",
    "    except Exception as e:\n",
    "        print(f\"Error processing {url} (진료과): {e}\")\n",
    "        return None\n"
   ]
  },
  {
   "cell_type": "code",
   "execution_count": 4,
   "id": "a9998315",
   "metadata": {},
   "outputs": [
    {
     "data": {
      "text/html": [
       "<div>\n",
       "<style scoped>\n",
       "    .dataframe tbody tr th:only-of-type {\n",
       "        vertical-align: middle;\n",
       "    }\n",
       "\n",
       "    .dataframe tbody tr th {\n",
       "        vertical-align: top;\n",
       "    }\n",
       "\n",
       "    .dataframe thead th {\n",
       "        text-align: right;\n",
       "    }\n",
       "</style>\n",
       "<table border=\"1\" class=\"dataframe\">\n",
       "  <thead>\n",
       "    <tr style=\"text-align: right;\">\n",
       "      <th></th>\n",
       "      <th>질환명</th>\n",
       "      <th>링크</th>\n",
       "    </tr>\n",
       "  </thead>\n",
       "  <tbody>\n",
       "    <tr>\n",
       "      <th>0</th>\n",
       "      <td>가드네렐라 바지날리스 [Gardnerella Vaginalis]</td>\n",
       "      <td>https://terms.naver.com/entry.naver?docId=6225...</td>\n",
       "    </tr>\n",
       "    <tr>\n",
       "      <th>1</th>\n",
       "      <td>가랑이통증 [Perineal pain]</td>\n",
       "      <td>https://terms.naver.com/entry.naver?docId=6225...</td>\n",
       "    </tr>\n",
       "    <tr>\n",
       "      <th>2</th>\n",
       "      <td>가래 검사 [sputum examination]</td>\n",
       "      <td>https://terms.naver.com/entry.naver?docId=2119...</td>\n",
       "    </tr>\n",
       "    <tr>\n",
       "      <th>3</th>\n",
       "      <td>가래톳 [bubo, groin lump]</td>\n",
       "      <td>https://terms.naver.com/entry.naver?docId=9275...</td>\n",
       "    </tr>\n",
       "    <tr>\n",
       "      <th>4</th>\n",
       "      <td>가성근시 [pseudomyopia]</td>\n",
       "      <td>https://terms.naver.com/entry.naver?docId=9272...</td>\n",
       "    </tr>\n",
       "  </tbody>\n",
       "</table>\n",
       "</div>"
      ],
      "text/plain": [
       "                                   질환명  \\\n",
       "0  가드네렐라 바지날리스 [Gardnerella Vaginalis]   \n",
       "1                가랑이통증 [Perineal pain]   \n",
       "2           가래 검사 [sputum examination]   \n",
       "3               가래톳 [bubo, groin lump]   \n",
       "4                  가성근시 [pseudomyopia]   \n",
       "\n",
       "                                                  링크  \n",
       "0  https://terms.naver.com/entry.naver?docId=6225...  \n",
       "1  https://terms.naver.com/entry.naver?docId=6225...  \n",
       "2  https://terms.naver.com/entry.naver?docId=2119...  \n",
       "3  https://terms.naver.com/entry.naver?docId=9275...  \n",
       "4  https://terms.naver.com/entry.naver?docId=9272...  "
      ]
     },
     "execution_count": 4,
     "metadata": {},
     "output_type": "execute_result"
    }
   ],
   "source": [
    "df = pd.read_csv(\"naver_health_terms.csv\")\n",
    "df.head()"
   ]
  },
  {
   "cell_type": "code",
   "execution_count": 5,
   "id": "de458bb1",
   "metadata": {},
   "outputs": [
    {
     "name": "stderr",
     "output_type": "stream",
     "text": [
      "100%|██████████| 1762/1762 [16:18<00:00,  1.80it/s]"
     ]
    },
    {
     "name": "stdout",
     "output_type": "stream",
     "text": [
      "CSV 저장 완료\n"
     ]
    },
    {
     "name": "stderr",
     "output_type": "stream",
     "text": [
      "\n"
     ]
    }
   ],
   "source": [
    "symptoms = []\n",
    "departments = []\n",
    "\n",
    "for _, row in tqdm(df.iterrows(), total=len(df)):\n",
    "    url = row['링크']\n",
    "    symptoms.append(extract_symptoms(url))\n",
    "    departments.append(extract_departments(url))\n",
    "\n",
    "df['증상'] = symptoms\n",
    "df['진료과'] = departments\n",
    "\n",
    "df.to_csv(\"naver_health_v1.csv\", index=False, encoding='utf-8-sig')\n",
    "print(\"CSV 저장 완료\")\n"
   ]
  },
  {
   "cell_type": "code",
   "execution_count": 6,
   "id": "8346d1cc",
   "metadata": {},
   "outputs": [
    {
     "data": {
      "text/plain": [
       "522"
      ]
     },
     "execution_count": 6,
     "metadata": {},
     "output_type": "execute_result"
    }
   ],
   "source": [
    "df['증상'].isna().sum()"
   ]
  }
 ],
 "metadata": {
  "kernelspec": {
   "display_name": "myenv1",
   "language": "python",
   "name": "python3"
  },
  "language_info": {
   "codemirror_mode": {
    "name": "ipython",
    "version": 3
   },
   "file_extension": ".py",
   "mimetype": "text/x-python",
   "name": "python",
   "nbconvert_exporter": "python",
   "pygments_lexer": "ipython3",
   "version": "3.10.16"
  }
 },
 "nbformat": 4,
 "nbformat_minor": 5
}
