{
 "cells": [
  {
   "cell_type": "markdown",
   "id": "dbca7c61",
   "metadata": {},
   "source": [
    "# 아산병원 질환백과 전체 링크 수집 (1~64페이지)\n",
    "Selenium을 사용해 각 질환의 상세페이지 링크 1278건을 수집합니다."
   ]
  },
  {
   "cell_type": "code",
   "execution_count": 1,
   "id": "af3510da",
   "metadata": {},
   "outputs": [],
   "source": [
    "from selenium import webdriver\n",
    "from selenium.webdriver.chrome.service import Service\n",
    "from selenium.webdriver.common.by import By\n",
    "from selenium.webdriver.chrome.options import Options\n",
    "import time\n",
    "import pandas as pd"
   ]
  },
  {
   "cell_type": "code",
   "execution_count": 2,
   "id": "2b440139",
   "metadata": {},
   "outputs": [],
   "source": [
    "options = Options()\n",
    "options.add_argument(\"--headless\")\n",
    "options.add_argument(\"--no-sandbox\")\n",
    "options.add_argument(\"--disable-dev-shm-usage\")\n",
    "service = Service()\n",
    "driver = webdriver.Chrome(service=service, options=options)"
   ]
  },
  {
   "cell_type": "code",
   "execution_count": 3,
   "id": "baaa12c8",
   "metadata": {},
   "outputs": [
    {
     "name": "stdout",
     "output_type": "stream",
     "text": [
      "1페이지: 20개 수집\n",
      "2페이지: 20개 수집\n",
      "3페이지: 20개 수집\n",
      "4페이지: 20개 수집\n",
      "5페이지: 20개 수집\n",
      "6페이지: 20개 수집\n",
      "7페이지: 20개 수집\n",
      "8페이지: 20개 수집\n",
      "9페이지: 20개 수집\n",
      "10페이지: 20개 수집\n",
      "11페이지: 20개 수집\n",
      "12페이지: 20개 수집\n",
      "13페이지: 20개 수집\n",
      "14페이지: 20개 수집\n",
      "15페이지: 20개 수집\n",
      "16페이지: 20개 수집\n",
      "17페이지: 20개 수집\n",
      "18페이지: 20개 수집\n",
      "19페이지: 20개 수집\n",
      "20페이지: 20개 수집\n",
      "21페이지: 20개 수집\n",
      "22페이지: 20개 수집\n",
      "23페이지: 20개 수집\n",
      "24페이지: 20개 수집\n",
      "25페이지: 20개 수집\n",
      "26페이지: 20개 수집\n",
      "27페이지: 20개 수집\n",
      "28페이지: 20개 수집\n",
      "29페이지: 20개 수집\n",
      "30페이지: 20개 수집\n",
      "31페이지: 20개 수집\n",
      "32페이지: 20개 수집\n",
      "33페이지: 20개 수집\n",
      "34페이지: 20개 수집\n",
      "35페이지: 20개 수집\n",
      "36페이지: 20개 수집\n",
      "37페이지: 20개 수집\n",
      "38페이지: 20개 수집\n",
      "39페이지: 20개 수집\n",
      "40페이지: 20개 수집\n",
      "41페이지: 20개 수집\n",
      "42페이지: 20개 수집\n",
      "43페이지: 20개 수집\n",
      "44페이지: 20개 수집\n",
      "45페이지: 20개 수집\n",
      "46페이지: 20개 수집\n",
      "47페이지: 20개 수집\n",
      "48페이지: 20개 수집\n",
      "49페이지: 20개 수집\n",
      "50페이지: 20개 수집\n",
      "51페이지: 20개 수집\n",
      "52페이지: 20개 수집\n",
      "53페이지: 20개 수집\n",
      "54페이지: 20개 수집\n",
      "55페이지: 20개 수집\n",
      "56페이지: 20개 수집\n",
      "57페이지: 20개 수집\n",
      "58페이지: 20개 수집\n",
      "59페이지: 20개 수집\n",
      "60페이지: 20개 수집\n",
      "61페이지: 20개 수집\n",
      "62페이지: 20개 수집\n",
      "63페이지: 20개 수집\n",
      "64페이지: 18개 수집\n",
      "총 수집된 링크 수: 1278\n"
     ]
    }
   ],
   "source": [
    "base_url = \"https://www.amc.seoul.kr\"\n",
    "disease_links = []\n",
    "\n",
    "for page in range(1,65):\n",
    "    url = f\"https://www.amc.seoul.kr/asan/healthinfo/disease/diseaseList.do?pageIndex={page}&partId=&diseaseKindId=&searchKeyword=\"\n",
    "    driver.get(url)\n",
    "    time.sleep(1)\n",
    "\n",
    "    elements = driver.find_elements(By.CSS_SELECTOR, \"#listForm ul li div.contBox > strong > a\")\n",
    "    links = [el.get_attribute(\"href\") for el in elements]\n",
    "    disease_links.extend(links)\n",
    "    print(f\"{page}페이지: {len(links)}개 수집\")\n",
    "\n",
    "print(f\"총 수집된 링크 수: {len(disease_links)}\")"
   ]
  },
  {
   "cell_type": "code",
   "execution_count": 6,
   "id": "608dd8c2",
   "metadata": {},
   "outputs": [
    {
     "name": "stdout",
     "output_type": "stream",
     "text": [
      "✅ 저장 완료: amc_disease_links.csv\n"
     ]
    }
   ],
   "source": [
    "df = pd.DataFrame({'상세페이지링크': disease_links})\n",
    "df.to_csv(\"amc_disease_links.csv\", index=False, encoding=\"utf-8-sig\")\n",
    "print(\"✅ 저장 완료: amc_disease_links.csv\")"
   ]
  },
  {
   "cell_type": "code",
   "execution_count": 5,
   "id": "31e80a64",
   "metadata": {},
   "outputs": [],
   "source": [
    "driver.quit()"
   ]
  }
 ],
 "metadata": {
  "kernelspec": {
   "display_name": "myenv1",
   "language": "python",
   "name": "python3"
  },
  "language_info": {
   "codemirror_mode": {
    "name": "ipython",
    "version": 3
   },
   "file_extension": ".py",
   "mimetype": "text/x-python",
   "name": "python",
   "nbconvert_exporter": "python",
   "pygments_lexer": "ipython3",
   "version": "3.10.16"
  }
 },
 "nbformat": 4,
 "nbformat_minor": 5
}
