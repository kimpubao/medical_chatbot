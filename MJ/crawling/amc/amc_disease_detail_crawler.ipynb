{
 "cells": [
  {
   "cell_type": "markdown",
   "id": "c3d25572",
   "metadata": {},
   "source": [
    "# 아산병원 상세페이지 1278건 크롤링\n",
    "`amc_disease_links.csv`에 담긴 링크를 기반으로\n",
    "각 질환의 **질환명 / 증상 / 진료과** 정보를 수집하여 `amc_disease_1278pages.csv`로 저장합니다."
   ]
  },
  {
   "cell_type": "code",
   "execution_count": null,
   "id": "e93e9727",
   "metadata": {},
   "outputs": [],
   "source": [
    "import pandas as pd\n",
    "import requests\n",
    "from bs4 import BeautifulSoup\n",
    "import time"
   ]
  },
  {
   "cell_type": "code",
   "execution_count": null,
   "id": "73bfb5ef",
   "metadata": {},
   "outputs": [],
   "source": [
    "# 링크 CSV 파일 불러오기\n",
    "df_links = pd.read_csv(\"amc_disease_links.csv\")\n",
    "links = df_links['상세페이지링크'].tolist()\n",
    "print(f\"총 링크 수: {len(links)}\")"
   ]
  },
  {
   "cell_type": "code",
   "execution_count": null,
   "id": "db7a1f66",
   "metadata": {},
   "outputs": [],
   "source": [
    "# def get_symptom_text(soup):\n",
    "#     dts = soup.select('div.contDescription dt')\n",
    "#     for dt in dts:\n",
    "#         if \"증상\" in dt.get_text(strip=True):\n",
    "#             dd = dt.find_next_sibling(\"dd\")\n",
    "#             if dd:\n",
    "#                 ps = dd.find_all(\"p\")\n",
    "#                 if ps:\n",
    "#                     return \" \".join(p.get_text(strip=True) for p in ps)\n",
    "#                 else:\n",
    "#                     return dd.get_text(strip=True)  # <p> 없을 경우 직접 dd 텍스트 추출\n",
    "#     return ''"
   ]
  },
  {
   "cell_type": "code",
   "execution_count": null,
   "id": "d2124b8b",
   "metadata": {},
   "outputs": [],
   "source": [
    "def get_symptom_text(soup):\n",
    "    # 1차 시도: 본문 내부 dt -> dd\n",
    "    dts = soup.select('div.contDescription dt')\n",
    "    for dt in dts:\n",
    "        if \"증상\" in dt.get_text(strip=True):\n",
    "            dd = dt.find_next_sibling(\"dd\")\n",
    "            if dd:\n",
    "                ps = dd.find_all(\"p\")\n",
    "                if ps:\n",
    "                    return \" \".join(p.get_text(strip=True) for p in ps)\n",
    "                else:\n",
    "                    return dd.get_text(strip=True)\n",
    "\n",
    "    # 2차 시도: 썸네일 옆 요약 정보\n",
    "    try:\n",
    "        dd = soup.select_one(\n",
    "            \"#content > div.healthinfoWrap.clearfix > div.regionReviewLeft > div.otherRegionBox > ul > li > div.contBox > dl > dd:nth-child(2)\"\n",
    "        )\n",
    "        if dd:\n",
    "            return \", \".join(a.get_text(strip=True) for a in dd.find_all(\"a\"))\n",
    "    except:\n",
    "        pass\n",
    "\n",
    "    return ''\n"
   ]
  },
  {
   "cell_type": "code",
   "execution_count": null,
   "id": "2baa0011",
   "metadata": {},
   "outputs": [],
   "source": [
    "def get_dept_text(soup):\n",
    "    dts = soup.select('div.otherRegionBox dt')\n",
    "    for dt in dts:\n",
    "        if \"진료과\" in dt.get_text(strip=True):\n",
    "            dd = dt.find_next_sibling(\"dd\")\n",
    "            if dd:\n",
    "                return \", \".join(a.get_text(strip=True) for a in dd.find_all(\"a\"))\n",
    "    return ''"
   ]
  },
  {
   "cell_type": "code",
   "execution_count": null,
   "id": "905563cb",
   "metadata": {},
   "outputs": [],
   "source": [
    "results = []\n",
    "headers = {\"User-Agent\": \"Mozilla/5.0\"}\n",
    "\n",
    "# 셀렉터\n",
    "sel_title = \"#content > div.healthinfoWrap.clearfix > div.regionReviewLeft > div.otherRegionBox > ul > li > div.contBox > strong\"\n",
    "sel_symptom = \"#content > div.healthinfoWrap.clearfix > div.regionReviewLeft > div.contDescription > dl > dd:nth-child(6)\"\n",
    "sel_dept = \"#content > div.healthinfoWrap.clearfix > div.regionReviewLeft > div.otherRegionBox > ul > li > div.contBox > dl > dd:nth-child(6) > a\"\n",
    "\n",
    "for i, url in enumerate(links):\n",
    "    try:\n",
    "        res = requests.get(url, headers=headers, timeout=10)\n",
    "        soup = BeautifulSoup(res.text, 'html.parser')\n",
    "\n",
    "        title_tag = soup.select_one(sel_title)\n",
    "        # symptom_tag = soup.select_one(sel_symptom)\n",
    "        # dept_tag = soup.select_one(sel_dept)\n",
    "\n",
    "        title = title_tag.get_text(strip=True) if title_tag else ''\n",
    "        symptom = get_symptom_text(soup)\n",
    "        dept = get_dept_text(soup)\n",
    "\n",
    "        results.append({'병명': title, '증상': symptom, '진료과': dept})\n",
    "        print(f\"[{i+1}/{len(links)}] 완료: {title}\")\n",
    "        time.sleep(1)\n",
    "\n",
    "    except Exception as e:\n",
    "        print(f\"[에러] {url} - {e}\")\n",
    "        continue"
   ]
  },
  {
   "cell_type": "code",
   "execution_count": null,
   "id": "1b7e009b",
   "metadata": {},
   "outputs": [],
   "source": [
    "# CSV 저장\n",
    "df = pd.DataFrame(results)\n",
    "df.to_csv(\"amc_disease_v4.csv\", index=False, encoding=\"utf-8-sig\")\n",
    "print(\"✅ CSV 저장 완료\")"
   ]
  }
 ],
 "metadata": {
  "kernelspec": {
   "display_name": "myenv1",
   "language": "python",
   "name": "python3"
  },
  "language_info": {
   "codemirror_mode": {
    "name": "ipython",
    "version": 3
   },
   "file_extension": ".py",
   "mimetype": "text/x-python",
   "name": "python",
   "nbconvert_exporter": "python",
   "pygments_lexer": "ipython3",
   "version": "3.10.16"
  }
 },
 "nbformat": 4,
 "nbformat_minor": 5
}
