{
 "cells": [
  {
   "cell_type": "markdown",
   "id": "8aa1ed77",
   "metadata": {},
   "source": [
    "# Selenium을 이용한 아산병원 질환 링크 크롤링 (1페이지)\n",
    "병명 상세페이지 링크를 수집합니다."
   ]
  },
  {
   "cell_type": "code",
   "execution_count": 1,
   "id": "d5add028",
   "metadata": {},
   "outputs": [],
   "source": [
    "from selenium import webdriver\n",
    "from selenium.webdriver.chrome.service import Service\n",
    "from selenium.webdriver.common.by import By\n",
    "from selenium.webdriver.chrome.options import Options\n",
    "import time\n",
    "\n",
    "from bs4 import BeautifulSoup\n",
    "import pandas as pd"
   ]
  },
  {
   "cell_type": "code",
   "execution_count": 2,
   "id": "5d555e94",
   "metadata": {},
   "outputs": [],
   "source": [
    "# 셀레니움 설정\n",
    "options = Options()\n",
    "options.add_argument(\"--headless\")  # 창 없이 실행\n",
    "options.add_argument(\"--no-sandbox\")\n",
    "options.add_argument(\"--disable-dev-shm-usage\")\n",
    "\n",
    "# chromedriver가 PATH에 있다면 아래처럼 실행\n",
    "service = Service()\n",
    "driver = webdriver.Chrome(service=service, options=options)\n",
    "\n",
    "# 페이지 접속\n",
    "driver.get(\n",
    "    \"https://www.amc.seoul.kr/asan/healthinfo/disease/diseaseList.do?pageIndex=1\"\n",
    ")\n",
    "time.sleep(3)  # 렌더링 대기"
   ]
  },
  {
   "cell_type": "code",
   "execution_count": 3,
   "id": "adb19e04",
   "metadata": {},
   "outputs": [
    {
     "name": "stdout",
     "output_type": "stream",
     "text": [
      "총 20개의 링크를 찾음\n"
     ]
    }
   ],
   "source": [
    "# 질환 상세 링크 수집\n",
    "elements = driver.find_elements(\n",
    "    By.CSS_SELECTOR, \"#listForm ul li div.contBox > strong > a\"\n",
    ")\n",
    "disease_links = [el.get_attribute(\"href\") for el in elements]\n",
    "\n",
    "print(f\"총 {len(disease_links)}개의 링크를 찾음\")"
   ]
  },
  {
   "cell_type": "markdown",
   "id": "4e355e98",
   "metadata": {},
   "source": [
    "## 상세페이지 20개에서 병명, 증상, 진료과 크롤링\n",
    "- 병명 selector: `#content > div.healthinfoWrap.clearfix > div.regionReviewLeft > div.otherRegionBox > ul > li > div.contBox > strong`\n",
    "- 증상 selector: `#content > div.healthinfoWrap.clearfix > div.regionReviewLeft > div.contDescription > dl > dd:nth-child(6) > p`\n",
    "- 진료과 selector: `#content > div.healthinfoWrap.clearfix > div.regionReviewLeft > div.otherRegionBox > ul > li > div.contBox > dl > dd:nth-child(6) > a`"
   ]
  },
  {
   "cell_type": "code",
   "execution_count": 8,
   "id": "d167b7a4",
   "metadata": {},
   "outputs": [
    {
     "name": "stdout",
     "output_type": "stream",
     "text": [
      "[완료] 4번 염색체 단완결실 증후군(Wolf-Hirschhorn syndrome)\n"
     ]
    }
   ],
   "source": [
    "from bs4 import BeautifulSoup\n",
    "import pandas as pd\n",
    "import time\n",
    "\n",
    "results = []\n",
    "\n",
    "for link in [disease_links[3]]:\n",
    "    try:\n",
    "        driver.get(link)\n",
    "        time.sleep(2)\n",
    "        soup = BeautifulSoup(driver.page_source, 'html.parser')\n",
    "\n",
    "        # 병명\n",
    "        title_tag = soup.select_one('#content > div.healthinfoWrap.clearfix > div.regionReviewLeft > div.otherRegionBox > ul > li > div.contBox > strong')\n",
    "        title = title_tag.get_text(strip=True) if title_tag else ''\n",
    "\n",
    "        # 증상\n",
    "        symptom_tag = soup.select_one('#content > div.healthinfoWrap.clearfix > div.regionReviewLeft > div.contDescription > dl > dd:nth-child(6) > p')\n",
    "        symptom = symptom_tag.get_text(strip=True) if symptom_tag else ''\n",
    "\n",
    "        # 진료과\n",
    "        dept_tag = soup.select_one('#content > div.healthinfoWrap.clearfix > div.regionReviewLeft > div.otherRegionBox > ul > li > div.contBox > dl > dd:nth-child(6) > a')\n",
    "        dept = dept_tag.get_text(strip=True) if dept_tag else ''\n",
    "\n",
    "        results.append({'병명': title, '증상': symptom, '진료과': dept})\n",
    "        print(f\"[완료] {title}\")\n",
    "    except Exception as e:\n",
    "        print(f\"[에러] {link} - {e}\")\n",
    "        continue"
   ]
  },
  {
   "cell_type": "code",
   "execution_count": 9,
   "id": "4ff93708",
   "metadata": {},
   "outputs": [
    {
     "data": {
      "text/plain": [
       "[{'병명': '4번 염색체 단완결실 증후군(Wolf-Hirschhorn syndrome)',\n",
       "  '증상': '4번 염색체 단완결실 증후군은 그리스 투구형 얼굴(장두증, 전두골 돌출, 뚜렷하고 넓은 미간, 안구의 저형성, 내안각췌피, 크고 넓은 코, 뾰족한 코, 소하악증)이 특징입니다. 또한 사시, 낮게 변형된 귀, 아래로 처진 입, 구순열 및 구개열(15%), 심장 기형(중격 결손), 요도 하열, 잠복 고환, 척추 측만증, 발작 등의 증상이 동반됩니다. 경중의 차이가 있기는 하지만 정신 지체, 수유 곤란의 증세가 나타나기도 합니다.',\n",
       "  '진료과': '의학유전학센터'}]"
      ]
     },
     "execution_count": 9,
     "metadata": {},
     "output_type": "execute_result"
    }
   ],
   "source": [
    "results"
   ]
  },
  {
   "cell_type": "code",
   "execution_count": null,
   "id": "2a18a761",
   "metadata": {},
   "outputs": [],
   "source": [
    "import requests\n",
    "from bs4 import BeautifulSoup\n",
    "\n",
    "url = \"https://www.amc.seoul.kr/asan/healthinfo/disease/diseaseDetail.do?contentId=32329\"\n",
    "headers = {\n",
    "    \"User-Agent\": \"Mozilla/5.0\"\n",
    "}\n",
    "\n",
    "response = requests.get(url, headers=headers)\n",
    "soup = BeautifulSoup(response.text, \"html.parser\")\n",
    "\n",
    "# 셀렉터로 내용 추출\n",
    "title_tag = soup.select_one(\"#content > div.healthinfoWrap.clearfix > div.regionReviewLeft > div.otherRegionBox > ul > li > div.contBox > strong\")\n",
    "symptom_tag = soup.select_one(\"#content > div.healthinfoWrap.clearfix > div.regionReviewLeft > div.contDescription > dl > dd:nth-child(6) > p\")\n",
    "dept_tag = soup.select_one(\"#content > div.healthinfoWrap.clearfix > div.regionReviewLeft > div.otherRegionBox > ul > li > div.contBox > dl > dd:nth-child(6) > a\")\n",
    "\n",
    "# 출력\n",
    "print(\"질환명:\", title_tag.get_text(strip=True) if title_tag else \"❌ 없음\")\n",
    "print(\"증상 내용:\", symptom_tag.get_text(strip=True) if symptom_tag else \"❌ 없음\")\n",
    "print(\"진료과:\", dept_tag.get_text(strip=True) if dept_tag else \"❌ 없음\")\n"
   ]
  },
  {
   "cell_type": "code",
   "execution_count": null,
   "id": "ee0f4e70",
   "metadata": {},
   "outputs": [],
   "source": [
    "df = pd.DataFrame(results)\n",
    "df.to_csv(\"amc_disease_20pages.csv\", index=False, encoding=\"utf-8-sig\")\n",
    "print(\"✅ CSV 저장 완료\")"
   ]
  }
 ],
 "metadata": {
  "kernelspec": {
   "display_name": "myenv1",
   "language": "python",
   "name": "python3"
  },
  "language_info": {
   "codemirror_mode": {
    "name": "ipython",
    "version": 3
   },
   "file_extension": ".py",
   "mimetype": "text/x-python",
   "name": "python",
   "nbconvert_exporter": "python",
   "pygments_lexer": "ipython3",
   "version": "3.10.16"
  }
 },
 "nbformat": 4,
 "nbformat_minor": 5
}
