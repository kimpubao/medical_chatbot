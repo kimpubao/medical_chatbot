{
 "cells": [
  {
   "cell_type": "markdown",
   "id": "8aa1ed77",
   "metadata": {},
   "source": [
    "# Selenium을 이용한 아산병원 질환 링크 크롤링 (1페이지)\n",
    "병명 상세페이지 링크를 수집합니다."
   ]
  },
  {
   "cell_type": "code",
   "execution_count": null,
   "id": "d5add028",
   "metadata": {},
   "outputs": [],
   "source": [
    "from selenium import webdriver\n",
    "from selenium.webdriver.chrome.service import Service\n",
    "from selenium.webdriver.common.by import By\n",
    "from selenium.webdriver.chrome.options import Options\n",
    "import time\n",
    "\n",
    "from bs4 import BeautifulSoup\n",
    "import pandas as pd"
   ]
  },
  {
   "cell_type": "code",
   "execution_count": null,
   "id": "5d555e94",
   "metadata": {},
   "outputs": [],
   "source": [
    "# 셀레니움 설정\n",
    "options = Options()\n",
    "options.add_argument(\"--headless\")  # 창 없이 실행\n",
    "options.add_argument(\"--no-sandbox\")\n",
    "options.add_argument(\"--disable-dev-shm-usage\")\n",
    "\n",
    "# chromedriver가 PATH에 있다면 아래처럼 실행\n",
    "service = Service()\n",
    "driver = webdriver.Chrome(service=service, options=options)\n",
    "\n",
    "# 페이지 접속\n",
    "driver.get(\n",
    "    \"https://www.amc.seoul.kr/asan/healthinfo/disease/diseaseList.do?pageIndex=1\"\n",
    ")\n",
    "time.sleep(3)  # 렌더링 대기"
   ]
  },
  {
   "cell_type": "code",
   "execution_count": null,
   "id": "adb19e04",
   "metadata": {},
   "outputs": [
    {
     "name": "stdout",
     "output_type": "stream",
     "text": [
      "총 20개의 링크를 찾음\n"
     ]
    }
   ],
   "source": [
    "# 질환 상세 링크 수집\n",
    "elements = driver.find_elements(\n",
    "    By.CSS_SELECTOR, \"#listForm ul li div.contBox > strong > a\"\n",
    ")\n",
    "disease_links = [el.get_attribute(\"href\") for el in elements]\n",
    "\n",
    "print(f\"총 {len(disease_links)}개의 링크를 찾음\")"
   ]
  },
  {
   "cell_type": "code",
   "execution_count": null,
   "id": "911026aa",
   "metadata": {},
   "outputs": [],
   "source": [
    "driver.quit()  # 브라우저 종료"
   ]
  }
 ],
 "metadata": {
  "kernelspec": {
   "display_name": "myenv1",
   "language": "python",
   "name": "python3"
  },
  "language_info": {
   "codemirror_mode": {
    "name": "ipython",
    "version": 3
   },
   "file_extension": ".py",
   "mimetype": "text/x-python",
   "name": "python",
   "nbconvert_exporter": "python",
   "pygments_lexer": "ipython3",
   "version": "3.10.16"
  }
 },
 "nbformat": 4,
 "nbformat_minor": 5
}
