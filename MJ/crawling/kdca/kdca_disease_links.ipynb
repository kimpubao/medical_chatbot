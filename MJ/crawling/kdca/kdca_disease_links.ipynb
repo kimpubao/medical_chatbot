{
 "cells": [
  {
   "cell_type": "code",
   "execution_count": 1,
   "id": "4de88aa8",
   "metadata": {},
   "outputs": [],
   "source": [
    "import requests\n",
    "from bs4 import BeautifulSoup\n",
    "import pandas as pd\n",
    "import time"
   ]
  },
  {
   "cell_type": "code",
   "execution_count": null,
   "id": "4a61ac1f",
   "metadata": {},
   "outputs": [],
   "source": [
    "headers = {\n",
    "    \"User-Agent\": \"Mozilla/5.0 (Windows NT 10.0; Win64; x64)\",\n",
    "    \"Referer\": \"https://terms.naver.com/\",\n",
    "}\n",
    "\n",
    "base_url = \"https://terms.naver.com/list.naver?cid=51004&categoryId=51004&so=st3.asc&viewType=&categoryType=&page=\"\n",
    "disease_data = []\n",
    "\n",
    "session = requests.Session()\n",
    "session.headers.update(headers)"
   ]
  },
  {
   "cell_type": "code",
   "execution_count": null,
   "id": "adb6682b",
   "metadata": {},
   "outputs": [
    {
     "name": "stdout",
     "output_type": "stream",
     "text": [
      "1페이지 완료 (30건)\n",
      "2페이지 완료 (30건)\n",
      "3페이지 완료 (30건)\n",
      "4페이지 완료 (30건)\n",
      "5페이지 완료 (30건)\n",
      "6페이지 완료 (30건)\n",
      "7페이지 완료 (30건)\n",
      "8페이지 완료 (30건)\n",
      "9페이지 완료 (30건)\n",
      "10페이지 완료 (30건)\n",
      "11페이지 완료 (30건)\n",
      "12페이지 완료 (30건)\n",
      "13페이지 완료 (30건)\n",
      "14페이지 완료 (30건)\n",
      "15페이지 완료 (30건)\n",
      "16페이지 완료 (30건)\n",
      "17페이지 완료 (30건)\n",
      "18페이지 완료 (30건)\n",
      "19페이지 완료 (30건)\n",
      "20페이지 완료 (30건)\n",
      "21페이지 완료 (30건)\n",
      "22페이지 완료 (28건)\n"
     ]
    }
   ],
   "source": [
    "for page in range(1, 23):  # 1~3페이지만 테스트용\n",
    "    url = base_url + str(page)\n",
    "    success = False\n",
    "    for attempt in range(3):  # 최대 3회 재시도\n",
    "        try:\n",
    "            res = session.get(url, timeout=10)\n",
    "            soup = BeautifulSoup(res.text, \"html.parser\")\n",
    "            links = soup.select(\"div.subject > strong > a\")\n",
    "            for link in links:\n",
    "                title = link.text.strip()\n",
    "                href = \"https://terms.naver.com\" + link[\"href\"]\n",
    "                disease_data.append({\"질병명\": title, \"링크\": href})\n",
    "\n",
    "            print(f\"{page}페이지 완료 ({len(links)}건)\")\n",
    "            success = True\n",
    "            break\n",
    "        except Exception as e:\n",
    "            print(f\"[{page}페이지 시도 {attempt+1}/3] 에러: {e}\")\n",
    "            time.sleep(2)  # 재시도 전 대기\n",
    "\n",
    "    if not success:\n",
    "        print(f\"[경고] {page}페이지 실패 - 건너뜀\")\n",
    "\n",
    "    time.sleep(1)  # 페이지 간 대기"
   ]
  },
  {
   "cell_type": "code",
   "execution_count": 7,
   "id": "340ea083",
   "metadata": {},
   "outputs": [
    {
     "name": "stdout",
     "output_type": "stream",
     "text": [
      "불필요한 항목 제거 및 CSV 저장 완료\n"
     ]
    }
   ],
   "source": [
    "df = pd.DataFrame(disease_data)\n",
    "\n",
    "# '담기' 제거\n",
    "df = df[df[\"질병명\"] != \"담기\"]\n",
    "\n",
    "# '#'만 있는 링크 제거\n",
    "df = df[~df[\"링크\"].str.endswith(\"#\")]\n",
    "\n",
    "# 인덱스 리셋\n",
    "df = df.reset_index(drop=True)\n",
    "\n",
    "# 저장\n",
    "df.to_csv(\"kdca_links.csv\", index=False, encoding=\"utf-8-sig\")\n",
    "print(\"불필요한 항목 제거 및 CSV 저장 완료\")"
   ]
  }
 ],
 "metadata": {
  "kernelspec": {
   "display_name": "myenv1",
   "language": "python",
   "name": "python3"
  },
  "language_info": {
   "codemirror_mode": {
    "name": "ipython",
    "version": 3
   },
   "file_extension": ".py",
   "mimetype": "text/x-python",
   "name": "python",
   "nbconvert_exporter": "python",
   "pygments_lexer": "ipython3",
   "version": "3.10.16"
  }
 },
 "nbformat": 4,
 "nbformat_minor": 5
}
